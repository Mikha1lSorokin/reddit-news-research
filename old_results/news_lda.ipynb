{
 "cells": [
  {
   "cell_type": "code",
   "execution_count": 1,
   "metadata": {},
   "outputs": [],
   "source": [
    "# Importing libs\n",
    "import pandas as pd\n",
    "import numpy as np\n",
    "import re\n",
    "import tqdm\n",
    "import gensim\n",
    "import gensim.corpora as corpora\n",
    "from gensim.models import CoherenceModel\n",
    "from gensim.utils import simple_preprocess\n",
    "import spacy\n",
    "import pyLDAvis\n",
    "import pyLDAvis.gensim_models\n",
    "import nltk\n",
    "from nltk.corpus import stopwords"
   ]
  },
  {
   "cell_type": "code",
   "execution_count": 2,
   "metadata": {},
   "outputs": [
    {
     "data": {
      "text/html": [
       "<div>\n",
       "<style scoped>\n",
       "    .dataframe tbody tr th:only-of-type {\n",
       "        vertical-align: middle;\n",
       "    }\n",
       "\n",
       "    .dataframe tbody tr th {\n",
       "        vertical-align: top;\n",
       "    }\n",
       "\n",
       "    .dataframe thead th {\n",
       "        text-align: right;\n",
       "    }\n",
       "</style>\n",
       "<table border=\"1\" class=\"dataframe\">\n",
       "  <thead>\n",
       "    <tr style=\"text-align: right;\">\n",
       "      <th></th>\n",
       "      <th>subreddit</th>\n",
       "      <th>id</th>\n",
       "      <th>title</th>\n",
       "      <th>score</th>\n",
       "      <th>upvote_ratio</th>\n",
       "      <th>url</th>\n",
       "      <th>comment_1</th>\n",
       "      <th>comment_2</th>\n",
       "      <th>comment_3</th>\n",
       "      <th>score_c1</th>\n",
       "      <th>score_c2</th>\n",
       "      <th>score_c3</th>\n",
       "    </tr>\n",
       "  </thead>\n",
       "  <tbody>\n",
       "    <tr>\n",
       "      <th>0</th>\n",
       "      <td>nottheonion</td>\n",
       "      <td>l7afyx</td>\n",
       "      <td>People Are Accusing Robinhood Of Stealing From...</td>\n",
       "      <td>181832</td>\n",
       "      <td>0.95</td>\n",
       "      <td>https://www.buzzfeednews.com/article/clarissaj...</td>\n",
       "      <td>Not only did Robinhood move the goalposts when...</td>\n",
       "      <td>a class action lawsuit has been filed. further...</td>\n",
       "      <td>Basically, Robinhood just stated that your acc...</td>\n",
       "      <td>15245</td>\n",
       "      <td>14359</td>\n",
       "      <td>5337</td>\n",
       "    </tr>\n",
       "    <tr>\n",
       "      <th>1</th>\n",
       "      <td>nottheonion</td>\n",
       "      <td>gyzw2p</td>\n",
       "      <td>US Military Could Lose Space Force Trademark t...</td>\n",
       "      <td>130123</td>\n",
       "      <td>0.91</td>\n",
       "      <td>https://www.cbr.com/us-military-lose-space-for...</td>\n",
       "      <td>Please please PLEASE let this happen.  The wor...</td>\n",
       "      <td>In US trademark law it's first to use, not fir...</td>\n",
       "      <td>It sounds silly, but some years ago the UK pol...</td>\n",
       "      <td>12325</td>\n",
       "      <td>11535</td>\n",
       "      <td>5548</td>\n",
       "    </tr>\n",
       "    <tr>\n",
       "      <th>2</th>\n",
       "      <td>nottheonion</td>\n",
       "      <td>jrskag</td>\n",
       "      <td>White House threatens to fire anyone who tries...</td>\n",
       "      <td>127328</td>\n",
       "      <td>0.89</td>\n",
       "      <td>https://americanindependent.com/white-house-th...</td>\n",
       "      <td>The penalty for attempted suicide is death</td>\n",
       "      <td>Daily beatings will continue until morale impr...</td>\n",
       "      <td>From what I understood, they said anyone that ...</td>\n",
       "      <td>24384</td>\n",
       "      <td>19378</td>\n",
       "      <td>12375</td>\n",
       "    </tr>\n",
       "    <tr>\n",
       "      <th>3</th>\n",
       "      <td>nottheonion</td>\n",
       "      <td>so0ree</td>\n",
       "      <td>Meta's threat to close down Facebook and Insta...</td>\n",
       "      <td>127326</td>\n",
       "      <td>0.95</td>\n",
       "      <td>https://www.cityam.com/metas-threat-to-close-d...</td>\n",
       "      <td>Hey guys - while you’re at it, please shut it ...</td>\n",
       "      <td>750 million people in Europe. Even Zucky won't...</td>\n",
       "      <td>As much as I agree with politicians who say li...</td>\n",
       "      <td>18527</td>\n",
       "      <td>17604</td>\n",
       "      <td>6989</td>\n",
       "    </tr>\n",
       "    <tr>\n",
       "      <th>4</th>\n",
       "      <td>nottheonion</td>\n",
       "      <td>g6zci5</td>\n",
       "      <td>Don't eat or inject yourself with disinfectant...</td>\n",
       "      <td>126247</td>\n",
       "      <td>0.94</td>\n",
       "      <td>https://www.cnn.com/world/live-news/coronaviru...</td>\n",
       "      <td>I'll take \"Shit I never thought would be a hea...</td>\n",
       "      <td>Tide Pod Challenge - White House Edition</td>\n",
       "      <td>I just got a letter from my georgia congressma...</td>\n",
       "      <td>23444</td>\n",
       "      <td>12429</td>\n",
       "      <td>6640</td>\n",
       "    </tr>\n",
       "  </tbody>\n",
       "</table>\n",
       "</div>"
      ],
      "text/plain": [
       "     subreddit      id                                              title  \\\n",
       "0  nottheonion  l7afyx  People Are Accusing Robinhood Of Stealing From...   \n",
       "1  nottheonion  gyzw2p  US Military Could Lose Space Force Trademark t...   \n",
       "2  nottheonion  jrskag  White House threatens to fire anyone who tries...   \n",
       "3  nottheonion  so0ree  Meta's threat to close down Facebook and Insta...   \n",
       "4  nottheonion  g6zci5  Don't eat or inject yourself with disinfectant...   \n",
       "\n",
       "    score  upvote_ratio                                                url  \\\n",
       "0  181832          0.95  https://www.buzzfeednews.com/article/clarissaj...   \n",
       "1  130123          0.91  https://www.cbr.com/us-military-lose-space-for...   \n",
       "2  127328          0.89  https://americanindependent.com/white-house-th...   \n",
       "3  127326          0.95  https://www.cityam.com/metas-threat-to-close-d...   \n",
       "4  126247          0.94  https://www.cnn.com/world/live-news/coronaviru...   \n",
       "\n",
       "                                           comment_1  \\\n",
       "0  Not only did Robinhood move the goalposts when...   \n",
       "1  Please please PLEASE let this happen.  The wor...   \n",
       "2         The penalty for attempted suicide is death   \n",
       "3  Hey guys - while you’re at it, please shut it ...   \n",
       "4  I'll take \"Shit I never thought would be a hea...   \n",
       "\n",
       "                                           comment_2  \\\n",
       "0  a class action lawsuit has been filed. further...   \n",
       "1  In US trademark law it's first to use, not fir...   \n",
       "2  Daily beatings will continue until morale impr...   \n",
       "3  750 million people in Europe. Even Zucky won't...   \n",
       "4           Tide Pod Challenge - White House Edition   \n",
       "\n",
       "                                           comment_3  score_c1  score_c2  \\\n",
       "0  Basically, Robinhood just stated that your acc...     15245     14359   \n",
       "1  It sounds silly, but some years ago the UK pol...     12325     11535   \n",
       "2  From what I understood, they said anyone that ...     24384     19378   \n",
       "3  As much as I agree with politicians who say li...     18527     17604   \n",
       "4  I just got a letter from my georgia congressma...     23444     12429   \n",
       "\n",
       "   score_c3  \n",
       "0      5337  \n",
       "1      5548  \n",
       "2     12375  \n",
       "3      6989  \n",
       "4      6640  "
      ]
     },
     "execution_count": 2,
     "metadata": {},
     "output_type": "execute_result"
    }
   ],
   "source": [
    "# Read data\n",
    "dtf = pd.read_json('data.json', lines=True)\n",
    "dtf.head()"
   ]
  },
  {
   "cell_type": "code",
   "execution_count": 3,
   "metadata": {},
   "outputs": [
    {
     "data": {
      "text/html": [
       "<div>\n",
       "<style scoped>\n",
       "    .dataframe tbody tr th:only-of-type {\n",
       "        vertical-align: middle;\n",
       "    }\n",
       "\n",
       "    .dataframe tbody tr th {\n",
       "        vertical-align: top;\n",
       "    }\n",
       "\n",
       "    .dataframe thead th {\n",
       "        text-align: right;\n",
       "    }\n",
       "</style>\n",
       "<table border=\"1\" class=\"dataframe\">\n",
       "  <thead>\n",
       "    <tr style=\"text-align: right;\">\n",
       "      <th></th>\n",
       "      <th>title</th>\n",
       "    </tr>\n",
       "  </thead>\n",
       "  <tbody>\n",
       "    <tr>\n",
       "      <th>0</th>\n",
       "      <td>People Are Accusing Robinhood Of Stealing From...</td>\n",
       "    </tr>\n",
       "    <tr>\n",
       "      <th>1</th>\n",
       "      <td>US Military Could Lose Space Force Trademark t...</td>\n",
       "    </tr>\n",
       "    <tr>\n",
       "      <th>2</th>\n",
       "      <td>White House threatens to fire anyone who tries...</td>\n",
       "    </tr>\n",
       "    <tr>\n",
       "      <th>3</th>\n",
       "      <td>Meta's threat to close down Facebook and Insta...</td>\n",
       "    </tr>\n",
       "    <tr>\n",
       "      <th>4</th>\n",
       "      <td>Don't eat or inject yourself with disinfectant...</td>\n",
       "    </tr>\n",
       "  </tbody>\n",
       "</table>\n",
       "</div>"
      ],
      "text/plain": [
       "                                               title\n",
       "0  People Are Accusing Robinhood Of Stealing From...\n",
       "1  US Military Could Lose Space Force Trademark t...\n",
       "2  White House threatens to fire anyone who tries...\n",
       "3  Meta's threat to close down Facebook and Insta...\n",
       "4  Don't eat or inject yourself with disinfectant..."
      ]
     },
     "execution_count": 3,
     "metadata": {},
     "output_type": "execute_result"
    }
   ],
   "source": [
    "# Remove the columns\n",
    "titles_unchanged = dtf[['title']]\n",
    "\n",
    "titles_unchanged.head()"
   ]
  },
  {
   "cell_type": "code",
   "execution_count": 4,
   "metadata": {},
   "outputs": [
    {
     "name": "stderr",
     "output_type": "stream",
     "text": [
      "<>:2: DeprecationWarning: invalid escape sequence \\.\n",
      "<>:2: DeprecationWarning: invalid escape sequence \\.\n",
      "C:\\Users\\sorok\\AppData\\Local\\Temp\\ipykernel_2548\\1561580386.py:2: DeprecationWarning: invalid escape sequence \\.\n",
      "  titles_unchanged['title_changed'] = titles_unchanged['title'].map(lambda x: re.sub('[,\\.!?]', '', x))\n",
      "C:\\Users\\sorok\\AppData\\Local\\Temp\\ipykernel_2548\\1561580386.py:2: SettingWithCopyWarning: \n",
      "A value is trying to be set on a copy of a slice from a DataFrame.\n",
      "Try using .loc[row_indexer,col_indexer] = value instead\n",
      "\n",
      "See the caveats in the documentation: https://pandas.pydata.org/pandas-docs/stable/user_guide/indexing.html#returning-a-view-versus-a-copy\n",
      "  titles_unchanged['title_changed'] = titles_unchanged['title'].map(lambda x: re.sub('[,\\.!?]', '', x))\n",
      "C:\\Users\\sorok\\AppData\\Local\\Temp\\ipykernel_2548\\1561580386.py:3: SettingWithCopyWarning: \n",
      "A value is trying to be set on a copy of a slice from a DataFrame.\n",
      "Try using .loc[row_indexer,col_indexer] = value instead\n",
      "\n",
      "See the caveats in the documentation: https://pandas.pydata.org/pandas-docs/stable/user_guide/indexing.html#returning-a-view-versus-a-copy\n",
      "  titles_unchanged['title_changed'] = titles_unchanged['title_changed'].map(lambda x: x.lower())\n"
     ]
    },
    {
     "data": {
      "text/html": [
       "<div>\n",
       "<style scoped>\n",
       "    .dataframe tbody tr th:only-of-type {\n",
       "        vertical-align: middle;\n",
       "    }\n",
       "\n",
       "    .dataframe tbody tr th {\n",
       "        vertical-align: top;\n",
       "    }\n",
       "\n",
       "    .dataframe thead th {\n",
       "        text-align: right;\n",
       "    }\n",
       "</style>\n",
       "<table border=\"1\" class=\"dataframe\">\n",
       "  <thead>\n",
       "    <tr style=\"text-align: right;\">\n",
       "      <th></th>\n",
       "      <th>title</th>\n",
       "      <th>title_changed</th>\n",
       "    </tr>\n",
       "  </thead>\n",
       "  <tbody>\n",
       "    <tr>\n",
       "      <th>0</th>\n",
       "      <td>People Are Accusing Robinhood Of Stealing From...</td>\n",
       "      <td>people are accusing robinhood of stealing from...</td>\n",
       "    </tr>\n",
       "    <tr>\n",
       "      <th>1</th>\n",
       "      <td>US Military Could Lose Space Force Trademark t...</td>\n",
       "      <td>us military could lose space force trademark t...</td>\n",
       "    </tr>\n",
       "    <tr>\n",
       "      <th>2</th>\n",
       "      <td>White House threatens to fire anyone who tries...</td>\n",
       "      <td>white house threatens to fire anyone who tries...</td>\n",
       "    </tr>\n",
       "    <tr>\n",
       "      <th>3</th>\n",
       "      <td>Meta's threat to close down Facebook and Insta...</td>\n",
       "      <td>meta's threat to close down facebook and insta...</td>\n",
       "    </tr>\n",
       "    <tr>\n",
       "      <th>4</th>\n",
       "      <td>Don't eat or inject yourself with disinfectant...</td>\n",
       "      <td>don't eat or inject yourself with disinfectant...</td>\n",
       "    </tr>\n",
       "  </tbody>\n",
       "</table>\n",
       "</div>"
      ],
      "text/plain": [
       "                                               title  \\\n",
       "0  People Are Accusing Robinhood Of Stealing From...   \n",
       "1  US Military Could Lose Space Force Trademark t...   \n",
       "2  White House threatens to fire anyone who tries...   \n",
       "3  Meta's threat to close down Facebook and Insta...   \n",
       "4  Don't eat or inject yourself with disinfectant...   \n",
       "\n",
       "                                       title_changed  \n",
       "0  people are accusing robinhood of stealing from...  \n",
       "1  us military could lose space force trademark t...  \n",
       "2  white house threatens to fire anyone who tries...  \n",
       "3  meta's threat to close down facebook and insta...  \n",
       "4  don't eat or inject yourself with disinfectant...  "
      ]
     },
     "execution_count": 4,
     "metadata": {},
     "output_type": "execute_result"
    }
   ],
   "source": [
    "# Remove punctuation and lowercase\n",
    "titles_unchanged['title_changed'] = titles_unchanged['title'].map(lambda x: re.sub('[,\\.!?]', '', x))\n",
    "titles_unchanged['title_changed'] = titles_unchanged['title_changed'].map(lambda x: x.lower())\n",
    "\n",
    "titles_unchanged.head()"
   ]
  },
  {
   "cell_type": "code",
   "execution_count": 5,
   "metadata": {},
   "outputs": [
    {
     "name": "stdout",
     "output_type": "stream",
     "text": [
      "['people', 'are', 'accusing', 'robinhood', 'of', 'stealing', 'from', 'the', 'poor', 'to', 'give', 'to', 'the', 'rich', 'after', 'it', 'limited', 'trading', 'on', 'gamestop', 'shares']\n"
     ]
    }
   ],
   "source": [
    "# gensim.utils.simple_preprocess realization\n",
    "def sent_to_words(sentences):\n",
    "    for sentence in sentences:\n",
    "        yield(gensim.utils.simple_preprocess(str(sentence), deacc=True))\n",
    "\n",
    "data = titles_unchanged.title_changed.values.tolist()\n",
    "data_words = list(sent_to_words(data))\n",
    "\n",
    "print(data_words[:1][0])"
   ]
  },
  {
   "cell_type": "code",
   "execution_count": 6,
   "metadata": {},
   "outputs": [],
   "source": [
    "# Build the bigram and trigram models\n",
    "bigram = gensim.models.Phrases(data_words, min_count=5, threshold=100)\n",
    "trigram = gensim.models.Phrases(bigram[data_words], threshold=100)  \n",
    "bigram_mod = gensim.models.phrases.Phraser(bigram)\n",
    "trigram_mod = gensim.models.phrases.Phraser(trigram)"
   ]
  },
  {
   "cell_type": "code",
   "execution_count": 7,
   "metadata": {},
   "outputs": [
    {
     "name": "stderr",
     "output_type": "stream",
     "text": [
      "[nltk_data] Downloading package stopwords to\n",
      "[nltk_data]     C:\\Users\\sorok\\AppData\\Roaming\\nltk_data...\n",
      "[nltk_data]   Package stopwords is already up-to-date!\n"
     ]
    }
   ],
   "source": [
    "# Stop words\n",
    "nltk.download('stopwords')\n",
    "stop_words = stopwords.words('english')\n",
    "stop_words.extend(['from', 'subject', 're', 'edu', 'use'])"
   ]
  },
  {
   "cell_type": "code",
   "execution_count": 8,
   "metadata": {},
   "outputs": [],
   "source": [
    "# Initialize spacy model, keeping only tagger component for efficiency\n",
    "nlp = spacy.load(\"en_core_web_sm\", disable=['parser', 'ner'])\n",
    "\n",
    "# Define functions for stopwords, bigrams, trigrams and lemmatization\n",
    "def remove_stopwords(texts):\n",
    "    return [[word for word in simple_preprocess(str(doc)) if word not in stop_words] for doc in texts]\n",
    "\n",
    "def make_bigrams(texts):\n",
    "    return [bigram_mod[doc] for doc in texts]\n",
    "\n",
    "def make_trigrams(texts):\n",
    "    return [trigram_mod[bigram_mod[doc]] for doc in texts]\n",
    "\n",
    "def lemmatization(texts, allowed_postags=['NOUN', 'ADJ', 'VERB', 'ADV']):\n",
    "    texts_out = []\n",
    "    for sent in texts:\n",
    "        doc = nlp(\" \".join(sent)) \n",
    "        texts_out.append([token.lemma_ for token in doc if token.pos_ in allowed_postags])\n",
    "    return texts_out"
   ]
  },
  {
   "cell_type": "code",
   "execution_count": 9,
   "metadata": {},
   "outputs": [
    {
     "name": "stdout",
     "output_type": "stream",
     "text": [
      "['people', 'accuse', 'robinhood', 'steal', 'poor', 'give', 'rich', 'limited', 'trading', 'gamestop', 'share']\n"
     ]
    }
   ],
   "source": [
    "# Remove Stop Words\n",
    "data_words_nostops = remove_stopwords(data_words)\n",
    "\n",
    "# Form Bigrams\n",
    "data_words_bigrams = make_bigrams(data_words_nostops)\n",
    "\n",
    "# Do lemmatization keeping only noun, adj, vb, adv\n",
    "data_lemmatized = lemmatization(data_words_bigrams, allowed_postags=['NOUN', 'ADJ', 'VERB', 'ADV'])\n",
    "\n",
    "print(data_lemmatized[:1][0])"
   ]
  },
  {
   "cell_type": "code",
   "execution_count": 10,
   "metadata": {},
   "outputs": [
    {
     "name": "stdout",
     "output_type": "stream",
     "text": [
      "[(0, 1), (1, 1), (2, 1), (3, 1), (4, 1), (5, 1), (6, 1), (7, 1), (8, 1), (9, 1), (10, 1)]\n"
     ]
    }
   ],
   "source": [
    "# Create gensim dictionary and Corpus\n",
    "id2word = corpora.Dictionary(data_lemmatized)\n",
    "corpus = [id2word.doc2bow(text) for text in data_lemmatized]\n",
    "\n",
    "print(corpus[:1][0])"
   ]
  },
  {
   "cell_type": "code",
   "execution_count": 11,
   "metadata": {},
   "outputs": [],
   "source": [
    "# Build LDA model\n",
    "lda_model = gensim.models.LdaMulticore(corpus=corpus,\n",
    "                                       id2word=id2word,\n",
    "                                       num_topics=3, \n",
    "                                       random_state=123,\n",
    "                                       chunksize=10000,\n",
    "                                       passes=10,\n",
    "                                       per_word_topics=True,\n",
    "                                       workers = 4)"
   ]
  },
  {
   "cell_type": "code",
   "execution_count": 12,
   "metadata": {},
   "outputs": [
    {
     "data": {
      "text/plain": [
       "[(0,\n",
       "  '0.019*\"say\" + 0.007*\"trump\" + 0.007*\"call\" + 0.007*\"police\" + 0.006*\"pay\" + 0.006*\"man\" + 0.005*\"woman\" + 0.005*\"make\" + 0.004*\"get\" + 0.004*\"help\"'),\n",
       " (1,\n",
       "  '0.012*\"say\" + 0.011*\"covid\" + 0.008*\"man\" + 0.008*\"school\" + 0.006*\"people\" + 0.006*\"student\" + 0.006*\"get\" + 0.006*\"ban\" + 0.005*\"new\" + 0.005*\"child\"'),\n",
       " (2,\n",
       "  '0.013*\"year\" + 0.010*\"woman\" + 0.007*\"police\" + 0.007*\"say\" + 0.006*\"man\" + 0.006*\"kill\" + 0.005*\"find\" + 0.005*\"shoot\" + 0.005*\"charge\" + 0.005*\"year_old\"')]"
      ]
     },
     "execution_count": 12,
     "metadata": {},
     "output_type": "execute_result"
    }
   ],
   "source": [
    "lda_model.print_topics()"
   ]
  },
  {
   "cell_type": "code",
   "execution_count": 13,
   "metadata": {},
   "outputs": [
    {
     "name": "stdout",
     "output_type": "stream",
     "text": [
      "Baseline coherence Score:  0.2279980088079363\n"
     ]
    }
   ],
   "source": [
    "# Compute Baseline Coherence Score\n",
    "coherence_model_lda = CoherenceModel(model=lda_model, texts=data_lemmatized, dictionary=id2word, coherence='c_v')\n",
    "coherence_lda = coherence_model_lda.get_coherence()\n",
    "print('Baseline coherence Score: ', coherence_lda)"
   ]
  },
  {
   "cell_type": "code",
   "execution_count": 14,
   "metadata": {},
   "outputs": [
    {
     "data": {
      "text/plain": [
       "\"# Function for finding the max coherence\\ndef compute_coherence_values(corpus, dictionary, k, a, b):\\n    lda_model = gensim.models.LdaMulticore(corpus=corpus,\\n                                           id2word=dictionary,\\n                                           num_topics=k, \\n                                           random_state=123,\\n                                           chunksize=1000,\\n                                           passes=10,\\n                                           alpha=a,\\n                                           eta=b,\\n                                           workers=4)\\n    coherence_model_lda = CoherenceModel(model=lda_model, texts=data_lemmatized, dictionary=id2word, coherence='c_v')\\n    return coherence_model_lda.get_coherence()\\n\\n# Topics range\\nmin_topics = 2\\nmax_topics = 11\\ntopics_range = range(min_topics, max_topics, 1)\\n\\n# Alpha parameter\\nalpha = list(np.arange(0.01, 1, 0.3))\\nalpha.append('symmetric')\\nalpha.append('asymmetric')\\n\\n# Beta parameter\\nbeta = list(np.arange(0.01, 1, 0.3))\\nbeta.append('symmetric')\\n\\n# Validation sets\\nnum_of_docs = len(corpus)\\ncorpus_sets = [gensim.utils.ClippedCorpus(corpus, int(num_of_docs*0.75)), corpus]\\ncorpus_title = ['75% Corpus', '100% Corpus']\\n\\n# Results dict\\nmodel_results = {'Validation_Set': [],\\n                 'Topics': [],\\n                 'Alpha': [],\\n                 'Beta': [],\\n                 'Coherence': []\\n                }\\n\\n# Adding a tqdm bar\\npbar = tqdm.tqdm(total=(len(beta)*len(alpha)*len(topics_range)*len(corpus_title)))\\n\\n# Iterate through validation corpuses\\nfor i in range(len(corpus_sets)):\\n    # Iterate through number of topics\\n    for k in topics_range:\\n        # Iterate through alpha values\\n        for a in alpha:\\n            # Iterare through beta values\\n            for b in beta:\\n                # Compute the coherence score for the given parameters\\n                cv = compute_coherence_values(corpus=corpus_sets[i], dictionary=id2word, k=k, a=a, b=b)\\n                # Save the model results\\n                model_results['Validation_Set'].append(corpus_title[i])\\n                model_results['Topics'].append(k)\\n                model_results['Alpha'].append(a)\\n                model_results['Beta'].append(b)\\n                model_results['Coherence'].append(cv)\\n                pbar.update(1)\\n\\npd.DataFrame(model_results).to_csv('lda_tuning_results.csv', index=False)\\npbar.close()\""
      ]
     },
     "execution_count": 14,
     "metadata": {},
     "output_type": "execute_result"
    }
   ],
   "source": [
    "# Function for finding the max coherence\n",
    "def compute_coherence_values(corpus, dictionary, k, a, b):\n",
    "    lda_model = gensim.models.LdaMulticore(corpus=corpus,\n",
    "                                           id2word=dictionary,\n",
    "                                           num_topics=k, \n",
    "                                           random_state=123,\n",
    "                                           chunksize=1000,\n",
    "                                           passes=10,\n",
    "                                           alpha=a,\n",
    "                                           eta=b,\n",
    "                                           workers=4)\n",
    "    coherence_model_lda = CoherenceModel(model=lda_model, texts=data_lemmatized, dictionary=id2word, coherence='c_v')\n",
    "    return coherence_model_lda.get_coherence()\n",
    "\n",
    "# Topics range\n",
    "min_topics = 2\n",
    "max_topics = 11\n",
    "topics_range = range(min_topics, max_topics, 1)\n",
    "\n",
    "# Alpha parameter\n",
    "alpha = list(np.arange(0.01, 1, 0.3))\n",
    "alpha.append('symmetric')\n",
    "alpha.append('asymmetric')\n",
    "\n",
    "# Beta parameter\n",
    "beta = list(np.arange(0.01, 1, 0.3))\n",
    "beta.append('symmetric')\n",
    "\n",
    "# Validation sets\n",
    "num_of_docs = len(corpus)\n",
    "corpus_sets = [gensim.utils.ClippedCorpus(corpus, int(num_of_docs*0.75)), corpus]\n",
    "corpus_title = ['75% Corpus', '100% Corpus']\n",
    "\n",
    "# Results dict\n",
    "model_results = {'Validation_Set': [],\n",
    "                 'Topics': [],\n",
    "                 'Alpha': [],\n",
    "                 'Beta': [],\n",
    "                 'Coherence': []\n",
    "                }\n",
    "\n",
    "# Adding a tqdm bar\n",
    "pbar = tqdm.tqdm(total=(len(beta)*len(alpha)*len(topics_range)*len(corpus_title)))\n",
    "\n",
    "# Iterate through validation corpuses\n",
    "for i in range(len(corpus_sets)):\n",
    "    # Iterate through number of topics\n",
    "    for k in topics_range:\n",
    "        # Iterate through alpha values\n",
    "        for a in alpha:\n",
    "            # Iterare through beta values\n",
    "            for b in beta:\n",
    "                # Compute the coherence score for the given parameters\n",
    "                cv = compute_coherence_values(corpus=corpus_sets[i], dictionary=id2word, k=k, a=a, b=b)\n",
    "                # Save the model results\n",
    "                model_results['Validation_Set'].append(corpus_title[i])\n",
    "                model_results['Topics'].append(k)\n",
    "                model_results['Alpha'].append(a)\n",
    "                model_results['Beta'].append(b)\n",
    "                model_results['Coherence'].append(cv)\n",
    "                pbar.update(1)\n",
    "\n",
    "pd.DataFrame(model_results).to_csv('lda_tuning_results.csv', index=False)\n",
    "pbar.close()"
   ]
  },
  {
   "cell_type": "code",
   "execution_count": 15,
   "metadata": {},
   "outputs": [
    {
     "data": {
      "text/html": [
       "<div>\n",
       "<style scoped>\n",
       "    .dataframe tbody tr th:only-of-type {\n",
       "        vertical-align: middle;\n",
       "    }\n",
       "\n",
       "    .dataframe tbody tr th {\n",
       "        vertical-align: top;\n",
       "    }\n",
       "\n",
       "    .dataframe thead th {\n",
       "        text-align: right;\n",
       "    }\n",
       "</style>\n",
       "<table border=\"1\" class=\"dataframe\">\n",
       "  <thead>\n",
       "    <tr style=\"text-align: right;\">\n",
       "      <th></th>\n",
       "      <th>Validation_Set</th>\n",
       "      <th>Topics</th>\n",
       "      <th>Alpha</th>\n",
       "      <th>Beta</th>\n",
       "      <th>Coherence</th>\n",
       "    </tr>\n",
       "  </thead>\n",
       "  <tbody>\n",
       "    <tr>\n",
       "      <th>343</th>\n",
       "      <td>100% Corpus</td>\n",
       "      <td>4</td>\n",
       "      <td>0.61</td>\n",
       "      <td>0.9099999999999999</td>\n",
       "      <td>0.300077</td>\n",
       "    </tr>\n",
       "    <tr>\n",
       "      <th>342</th>\n",
       "      <td>100% Corpus</td>\n",
       "      <td>4</td>\n",
       "      <td>0.61</td>\n",
       "      <td>0.61</td>\n",
       "      <td>0.290809</td>\n",
       "    </tr>\n",
       "    <tr>\n",
       "      <th>347</th>\n",
       "      <td>100% Corpus</td>\n",
       "      <td>4</td>\n",
       "      <td>0.9099999999999999</td>\n",
       "      <td>0.61</td>\n",
       "      <td>0.287195</td>\n",
       "    </tr>\n",
       "    <tr>\n",
       "      <th>344</th>\n",
       "      <td>100% Corpus</td>\n",
       "      <td>4</td>\n",
       "      <td>0.61</td>\n",
       "      <td>symmetric</td>\n",
       "      <td>0.285963</td>\n",
       "    </tr>\n",
       "    <tr>\n",
       "      <th>341</th>\n",
       "      <td>100% Corpus</td>\n",
       "      <td>4</td>\n",
       "      <td>0.61</td>\n",
       "      <td>0.31</td>\n",
       "      <td>0.285661</td>\n",
       "    </tr>\n",
       "    <tr>\n",
       "      <th>338</th>\n",
       "      <td>100% Corpus</td>\n",
       "      <td>4</td>\n",
       "      <td>0.31</td>\n",
       "      <td>0.9099999999999999</td>\n",
       "      <td>0.285038</td>\n",
       "    </tr>\n",
       "    <tr>\n",
       "      <th>346</th>\n",
       "      <td>100% Corpus</td>\n",
       "      <td>4</td>\n",
       "      <td>0.9099999999999999</td>\n",
       "      <td>0.31</td>\n",
       "      <td>0.285007</td>\n",
       "    </tr>\n",
       "    <tr>\n",
       "      <th>348</th>\n",
       "      <td>100% Corpus</td>\n",
       "      <td>4</td>\n",
       "      <td>0.9099999999999999</td>\n",
       "      <td>0.9099999999999999</td>\n",
       "      <td>0.284670</td>\n",
       "    </tr>\n",
       "    <tr>\n",
       "      <th>349</th>\n",
       "      <td>100% Corpus</td>\n",
       "      <td>4</td>\n",
       "      <td>0.9099999999999999</td>\n",
       "      <td>symmetric</td>\n",
       "      <td>0.280836</td>\n",
       "    </tr>\n",
       "    <tr>\n",
       "      <th>345</th>\n",
       "      <td>100% Corpus</td>\n",
       "      <td>4</td>\n",
       "      <td>0.9099999999999999</td>\n",
       "      <td>0.01</td>\n",
       "      <td>0.276112</td>\n",
       "    </tr>\n",
       "  </tbody>\n",
       "</table>\n",
       "</div>"
      ],
      "text/plain": [
       "    Validation_Set  Topics               Alpha                Beta  Coherence\n",
       "343    100% Corpus       4                0.61  0.9099999999999999   0.300077\n",
       "342    100% Corpus       4                0.61                0.61   0.290809\n",
       "347    100% Corpus       4  0.9099999999999999                0.61   0.287195\n",
       "344    100% Corpus       4                0.61           symmetric   0.285963\n",
       "341    100% Corpus       4                0.61                0.31   0.285661\n",
       "338    100% Corpus       4                0.31  0.9099999999999999   0.285038\n",
       "346    100% Corpus       4  0.9099999999999999                0.31   0.285007\n",
       "348    100% Corpus       4  0.9099999999999999  0.9099999999999999   0.284670\n",
       "349    100% Corpus       4  0.9099999999999999           symmetric   0.280836\n",
       "345    100% Corpus       4  0.9099999999999999                0.01   0.276112"
      ]
     },
     "execution_count": 15,
     "metadata": {},
     "output_type": "execute_result"
    }
   ],
   "source": [
    "# Checking results\n",
    "res_df = pd.read_csv('lda_tuning_results.csv')\n",
    "res_df = res_df[res_df['Alpha'] != 'asymmetric']\n",
    "res_df[res_df['Topics'] == 4].sort_values(by=['Coherence'], ascending=False).head(10)"
   ]
  },
  {
   "cell_type": "code",
   "execution_count": 16,
   "metadata": {},
   "outputs": [],
   "source": [
    "# Selecting the chosen parameters for the model\n",
    "num_topics = 4\n",
    "\n",
    "lda_model = gensim.models.LdaMulticore(corpus=corpus,\n",
    "                                           id2word=id2word,\n",
    "                                           num_topics=num_topics, \n",
    "                                           random_state=123,\n",
    "                                           chunksize=1000,\n",
    "                                           passes=10,\n",
    "                                           alpha=0.61,\n",
    "                                           eta=0.91,\n",
    "                                           workers=4)"
   ]
  },
  {
   "cell_type": "code",
   "execution_count": 17,
   "metadata": {},
   "outputs": [
    {
     "name": "stdout",
     "output_type": "stream",
     "text": [
      "Final coherence Score:  0.29874129994104914\n"
     ]
    }
   ],
   "source": [
    "# Compute the final coherence score\n",
    "coherence_model_lda = CoherenceModel(model=lda_model, texts=data_lemmatized, dictionary=id2word, coherence='c_v')\n",
    "print('Final coherence Score: ', coherence_model_lda.get_coherence())"
   ]
  },
  {
   "cell_type": "code",
   "execution_count": 18,
   "metadata": {},
   "outputs": [
    {
     "name": "stdout",
     "output_type": "stream",
     "text": [
      "[(0, '0.023*\"trump\" + 0.022*\"say\" + 0.010*\"call\" + 0.006*\"pay\" + 0.005*\"make\" + 0.005*\"election\" + 0.004*\"president\" + 0.003*\"claim\" + 0.003*\"state\" + 0.003*\"want\"'), (1, '0.014*\"covid\" + 0.011*\"say\" + 0.008*\"people\" + 0.008*\"get\" + 0.007*\"new\" + 0.007*\"school\" + 0.007*\"die\" + 0.006*\"man\" + 0.005*\"student\" + 0.005*\"child\"'), (2, '0.011*\"year\" + 0.010*\"woman\" + 0.008*\"man\" + 0.008*\"police\" + 0.007*\"kill\" + 0.006*\"arrest\" + 0.006*\"officer\" + 0.006*\"charge\" + 0.006*\"fire\" + 0.006*\"find\"'), (3, '0.009*\"tell\" + 0.006*\"say\" + 0.006*\"police\" + 0.005*\"home\" + 0.005*\"year_old\" + 0.004*\"girl\" + 0.004*\"reveal\" + 0.004*\"block\" + 0.004*\"end\" + 0.003*\"start\"')]\n"
     ]
    }
   ],
   "source": [
    "# Print topics\n",
    "print(lda_model.print_topics())"
   ]
  },
  {
   "cell_type": "code",
   "execution_count": 19,
   "metadata": {},
   "outputs": [
    {
     "name": "stderr",
     "output_type": "stream",
     "text": [
      "c:\\Users\\sorok\\AppData\\Local\\Programs\\Python\\Python39\\lib\\site-packages\\pyLDAvis\\_prepare.py:246: FutureWarning: In a future version of pandas all arguments of DataFrame.drop except for the argument 'labels' will be keyword-only.\n",
      "  default_term_info = default_term_info.sort_values(\n"
     ]
    },
    {
     "data": {
      "text/html": [
       "\n",
       "<link rel=\"stylesheet\" type=\"text/css\" href=\"https://cdn.jsdelivr.net/gh/bmabey/pyLDAvis@3.3.1/pyLDAvis/js/ldavis.v1.0.0.css\">\n",
       "\n",
       "\n",
       "<div id=\"ldavis_el254819802694243046148734704\"></div>\n",
       "<script type=\"text/javascript\">\n",
       "\n",
       "var ldavis_el254819802694243046148734704_data = {\"mdsDat\": {\"x\": [0.09965822177192303, -0.08141700359614776, 0.01379932609699834, -0.03204054427277364], \"y\": [0.05581442509123476, 0.04805876212246851, -0.10858929920143075, 0.004716111987727486], \"topics\": [1, 2, 3, 4], \"cluster\": [1, 1, 1, 1], \"Freq\": [30.500315454215226, 27.181745975094557, 23.196551577129252, 19.121386993560964]}, \"tinfo\": {\"Term\": [\"trump\", \"covid\", \"year\", \"say\", \"tell\", \"call\", \"school\", \"woman\", \"vaccine\", \"people\", \"pay\", \"new\", \"die\", \"student\", \"president\", \"kill\", \"fire\", \"child\", \"shoot\", \"officer\", \"reveal\", \"girl\", \"arrest\", \"home\", \"block\", \"attack\", \"murder\", \"year_old\", \"hospital\", \"police\", \"covid\", \"school\", \"vaccine\", \"hospital\", \"teacher\", \"shooting\", \"vaccinate\", \"test\", \"unvaccinated\", \"mask\", \"baby\", \"parent\", \"mom\", \"change\", \"price\", \"vaccination\", \"patient\", \"student\", \"likely\", \"surge\", \"spread\", \"care\", \"high\", \"teach\", \"gay\", \"fauci\", \"theory\", \"treatment\", \"alex_jone\", \"drug\", \"child\", \"doctor\", \"die\", \"video\", \"new\", \"leave\", \"people\", \"job\", \"vote\", \"bill\", \"take\", \"get\", \"show\", \"ban\", \"family\", \"car\", \"say\", \"face\", \"man\", \"death\", \"report\", \"make\", \"time\", \"day\", \"murder\", \"sentence\", \"year\", \"dog\", \"second\", \"coal\", \"husband\", \"old\", \"attack\", \"meet\", \"allege\", \"town\", \"armed\", \"solar\", \"turn\", \"united_state\", \"convict\", \"violent\", \"drone\", \"jail\", \"energy\", \"electricity\", \"award\", \"department\", \"wind\", \"miss\", \"civil\", \"alive\", \"spot\", \"deficit\", \"dead\", \"prison\", \"return\", \"fire\", \"woman\", \"shoot\", \"lose\", \"kill\", \"officer\", \"arrest\", \"close\", \"charge\", \"accuse\", \"find\", \"sell\", \"police\", \"man\", \"remove\", \"former\", \"official\", \"lawsuit\", \"day\", \"first\", \"month\", \"plan\", \"black\", \"get\", \"give\", \"say\", \"president\", \"trump\", \"cut\", \"abortion\", \"lie\", \"defend\", \"seek\", \"news\", \"weapon\", \"leader\", \"impeachment\", \"exclusive\", \"obama\", \"prosecutor\", \"threat\", \"supporter\", \"union\", \"passenger\", \"resign\", \"kyle_rittenhouse\", \"secretly\", \"witness\", \"democracy\", \"interview\", \"join\", \"defense\", \"felony\", \"grow\", \"fraud\", \"tape\", \"call\", \"campaign\", \"pay\", \"even\", \"investigation\", \"legal\", \"team\", \"russian\", \"say\", \"trial\", \"think\", \"support\", \"election\", \"make\", \"worker\", \"rule\", \"claim\", \"public\", \"know\", \"want\", \"state\", \"government\", \"former\", \"help\", \"law\", \"ask\", \"ban\", \"go\", \"tell\", \"block\", \"worth\", \"rescue\", \"tax\", \"pick\", \"scientist\", \"identify\", \"collapse\", \"pull\", \"start\", \"sex_trafficke\", \"deliver\", \"system\", \"concern\", \"seem\", \"reveal\", \"page\", \"oppose\", \"watch\", \"condemn\", \"repair\", \"urge\", \"impeach\", \"girl\", \"path\", \"gop\", \"signal\", \"compete\", \"text\", \"learn\", \"agent\", \"homeless\", \"stand\", \"voting\", \"home\", \"destroy\", \"speak\", \"year_old\", \"end\", \"photo\", \"good\", \"supreme_court\", \"send\", \"put\", \"name\", \"truck\", \"right\", \"police\", \"build\", \"buy\", \"say\", \"help\", \"steal\", \"city\", \"black\", \"report\", \"get\", \"man\"], \"Freq\": [425.0, 315.0, 245.0, 766.0, 129.0, 211.0, 170.0, 264.0, 121.0, 233.0, 129.0, 205.0, 180.0, 136.0, 78.0, 174.0, 145.0, 138.0, 140.0, 159.0, 72.0, 74.0, 164.0, 103.0, 55.0, 94.0, 69.0, 130.0, 73.0, 321.0, 309.7255695650182, 167.24466146184838, 116.43536195029195, 70.4915133737363, 65.50356909091771, 63.76140638566396, 42.030891196666566, 46.45161879688336, 34.600762439599755, 65.26617276129785, 39.244974207591945, 50.15512786959419, 30.94037685758539, 44.3423708314294, 35.4702199171116, 27.374912960981998, 42.13869860746356, 123.81527164565725, 20.788109661950365, 25.94968488332419, 22.082153896442186, 31.06834716506994, 66.9922967389163, 21.779899942090374, 44.4179376098778, 18.075140722410925, 25.878373868345804, 22.338684054402805, 22.762591784187197, 52.917910560028474, 119.74522474552404, 54.925572898756634, 152.9386743714984, 62.805409787151774, 167.43367315595015, 91.26480287235974, 188.78063535931017, 54.67521715087682, 104.2714372094059, 78.26253220620613, 100.72769428739622, 171.90101939459882, 97.46032069776705, 113.85026857025628, 75.54372837018369, 56.9042686742498, 246.6331628803085, 69.89980696999133, 134.84086256279758, 68.40659984801256, 78.08083189795452, 86.70742499686365, 63.34200444874331, 63.690413829176535, 66.80421850040737, 60.124325801311784, 228.7050055146431, 52.59785726474068, 28.56238118235364, 23.88073695936682, 22.019586895912738, 32.478016083002, 83.88716248847624, 26.16224537803698, 32.83073646922313, 19.68318141221062, 24.82249663773368, 15.520072278088357, 68.16844750850552, 17.889890970075573, 31.252372551828138, 20.341683493543325, 13.810043361888129, 56.279321762415506, 18.01814439951148, 13.823383548060711, 22.14308594163492, 12.348646196854322, 11.414019266821676, 39.634616083706646, 15.87809238310632, 11.995140059008074, 13.406032158765203, 10.922173932411237, 76.71549247526015, 70.45512077815627, 40.73191001882779, 117.11643452748254, 206.14249708316052, 110.86458178531119, 81.95016980174472, 133.64554324173787, 122.08488982127079, 125.11006641532666, 30.553586040163285, 120.57953043919389, 57.81758420060301, 117.06738486185775, 43.80023493197478, 162.6402285495365, 166.74651494076346, 44.75435319336464, 60.03938956892822, 61.454272583282744, 41.75192352247391, 69.73776941839365, 54.66843241879542, 46.83371469245718, 49.978297387202936, 51.12834692098671, 57.119672570598354, 46.92141864698292, 47.53424393086071, 74.58798079923672, 388.78937532653566, 53.54699690286534, 49.66292932966611, 50.88678972635246, 23.88073041707716, 21.32987898654282, 33.53094214444784, 23.008208356430988, 47.5592588912396, 19.7240431105522, 18.702823016533273, 19.57403400120676, 22.201005902222636, 41.47360852498779, 30.385412674056752, 21.12876994054579, 20.546377983620904, 33.331186208920336, 14.50555540660019, 14.14547089275442, 12.630857881465094, 24.500781279880183, 14.453356568102793, 17.465377470798614, 22.280901470848434, 14.312868272290324, 25.341635351268465, 25.98283957419268, 12.321979391334347, 173.65469078065723, 48.433408287406074, 104.02618812162895, 34.01568396194119, 32.963594534104224, 40.45162580509773, 28.178989908940103, 49.546705947561925, 383.22160597442434, 40.57995111900478, 41.23552913820363, 42.92704533024153, 84.32036796627578, 89.71484309943818, 48.46570679411648, 42.57079296135716, 58.06874780946823, 38.11857111580364, 35.34212454404493, 54.00530102349261, 56.42921027523002, 35.54761318428355, 43.221282804796346, 40.16987457774542, 40.14009814084507, 36.54010770382298, 38.734460563420065, 37.306864965505895, 122.10675468391838, 51.984389929261276, 21.438714770433887, 25.127820544157615, 43.02359266240325, 13.04278242949229, 29.685511524570366, 14.027782180098669, 14.510494699940738, 23.91312587045685, 47.47348949567981, 11.923483843512729, 15.19998784288708, 28.409801700602507, 11.271371328201019, 13.457147223070425, 59.40478193863111, 11.663138620752004, 13.79995257589817, 22.646898565447994, 9.487083669061121, 9.356114522788214, 29.781943808899584, 9.668904823870136, 59.70949634114947, 10.796662932157476, 9.137453113575656, 8.214612784490603, 8.746909292019641, 13.341076703026912, 14.974598580698126, 17.171284239854455, 22.65427899128819, 16.614746011680612, 28.43923430425497, 70.11279148599517, 17.41996482579933, 16.266663151128775, 67.40308455621238, 50.47716606315391, 17.739091931137743, 27.42358342898495, 32.35306439234435, 34.221270776776564, 28.558152714975922, 28.34105302565108, 19.664167029410397, 34.56517915099357, 80.97658692339459, 19.32756153128745, 30.248070583035037, 88.65374779223238, 33.46689324622906, 26.6264479384055, 26.64083919129578, 30.79579289006777, 29.628240212047828, 32.287803805974676, 28.017683784199285], \"Total\": [425.0, 315.0, 245.0, 766.0, 129.0, 211.0, 170.0, 264.0, 121.0, 233.0, 129.0, 205.0, 180.0, 136.0, 78.0, 174.0, 145.0, 138.0, 140.0, 159.0, 72.0, 74.0, 164.0, 103.0, 55.0, 94.0, 69.0, 130.0, 73.0, 321.0, 315.81187192830805, 170.7553992705205, 121.0636827795437, 73.60636807731863, 68.47596642011268, 66.76979579593103, 44.30904019835999, 49.000359757431816, 36.64175903287466, 69.1579338322576, 42.137333393943436, 54.22831953343243, 33.53821901945058, 48.17862766341959, 38.54594634974097, 29.802665112100048, 45.92300363465155, 136.15405684362528, 22.898547746362034, 28.618680050533907, 24.40076517369799, 34.35838594825261, 74.1552343704062, 24.108924837108816, 49.33460341008783, 20.100561165317657, 28.789190273794592, 24.867207362758386, 25.435955068217776, 59.173052361304244, 138.44762458260817, 62.564466604129535, 180.1828965472675, 72.91613165311482, 205.64460663174327, 108.56966852157095, 233.88469777944337, 66.99227076741568, 141.37810429975198, 101.60332753436207, 137.89842076079276, 279.9522563163675, 139.6970179859711, 181.77650252211492, 105.9418764621287, 71.71963386236447, 766.0427605778259, 102.99474039800008, 344.1910146753056, 102.1364915093372, 137.63185632602335, 201.8173688612274, 110.30948895425826, 161.95968723065485, 69.18872739046667, 62.82759554299528, 245.760976782365, 56.693980386973095, 30.864498624972857, 26.374881145792795, 24.430364899655565, 36.22148622025117, 94.03673080256299, 29.39666884613068, 36.963627295139375, 22.396451738597285, 28.32770633530269, 17.795808108810515, 78.32354641866634, 20.69932652972664, 36.18126549203673, 23.595081379184517, 16.038774488305467, 65.4738899813363, 20.966207506699828, 16.220822653520592, 25.984032934354772, 14.51686201762896, 13.431504056296768, 46.72329222585485, 18.791291911210326, 14.268490209791736, 15.953146108529763, 13.008294009522308, 92.4638961066202, 84.93664990949088, 49.08953238707656, 145.13125336541887, 264.90077810665764, 140.54923806598055, 103.81949115965669, 174.24177964828596, 159.03169258303288, 164.95764121490683, 37.98840194581886, 181.22320157102706, 79.66756858858191, 193.4443147467319, 59.09400190318673, 321.34957047512717, 344.1910146753056, 66.21358563469113, 106.65680960832428, 117.02557871006307, 61.251644255501645, 161.95968723065485, 114.94861228787381, 83.36268231626121, 103.57120538830533, 129.07099313366427, 279.9522563163675, 142.0837051022114, 766.0427605778259, 78.68131095094219, 425.41289661891454, 58.616930773761325, 54.46621867302886, 56.16018669276636, 26.61074225385988, 23.852016468982416, 37.510244516033595, 25.885015645167783, 53.71902885914885, 22.532205049936113, 21.3743677891767, 22.418741860420823, 25.433182331647146, 47.61999219050966, 34.89062914563973, 24.38333037346432, 23.824694145715224, 38.665884363441755, 16.919331299207595, 16.521374403221085, 14.783575314997194, 28.75826938605233, 16.969217075396998, 20.700756802835677, 26.488784533735252, 17.17233575099873, 30.559807913668436, 31.43297879298422, 14.944737242738839, 211.46529590795845, 58.94737006449462, 129.97724996119254, 41.95066499127497, 40.76072215393591, 50.95080201992425, 35.00042953707504, 67.78188916981603, 766.0427605778259, 54.70731131660301, 56.24071745597209, 59.70985911066841, 152.982618923128, 201.8173688612274, 83.21876846320598, 69.78759385434566, 117.53590306290363, 59.05378502258005, 52.77696437243448, 108.53711744282236, 143.01652716172998, 55.966278967507435, 106.65680960832428, 96.54666097527749, 106.91466242275999, 76.6763030910031, 181.77650252211492, 133.60127698132746, 129.34177070991788, 55.784311182837016, 24.207232897767604, 28.961663280757108, 50.3002149172538, 15.280638270332968, 35.01275161724153, 16.664381252866043, 17.2536796534928, 28.475595114517372, 57.248991463083094, 14.412205420204097, 18.425415508904504, 34.60149163183809, 13.746171140686837, 16.44230016883645, 72.71064121002138, 14.305835361912354, 16.9468981305843, 27.86552127178907, 11.681971306878856, 11.546121735671225, 36.95390611592828, 12.032270463865597, 74.3360918217265, 13.481819721474944, 11.455779134658556, 10.315921518872582, 11.009085051454694, 16.94118297006903, 19.058687404236238, 21.943342744061468, 29.23572265040835, 21.37512536970158, 38.3254157361004, 103.20594690811005, 23.039607282797157, 21.35318981638663, 130.82235801886767, 91.83406602023553, 24.33686566474526, 44.150164944676234, 56.480709376180585, 63.20566451789139, 50.179875616569646, 50.276994625922576, 28.946086429701133, 73.02933384859608, 321.34957047512717, 28.21804063077351, 68.89711556943911, 766.0427605778259, 96.54666097527749, 62.16206862654357, 64.4007906704111, 129.07099313366427, 137.63185632602335, 279.9522563163675, 344.1910146753056], \"Category\": [\"Default\", \"Default\", \"Default\", \"Default\", \"Default\", \"Default\", \"Default\", \"Default\", \"Default\", \"Default\", \"Default\", \"Default\", \"Default\", \"Default\", \"Default\", \"Default\", \"Default\", \"Default\", \"Default\", \"Default\", \"Default\", \"Default\", \"Default\", \"Default\", \"Default\", \"Default\", \"Default\", \"Default\", \"Default\", \"Default\", \"Topic1\", \"Topic1\", \"Topic1\", \"Topic1\", \"Topic1\", \"Topic1\", \"Topic1\", \"Topic1\", \"Topic1\", \"Topic1\", \"Topic1\", \"Topic1\", \"Topic1\", \"Topic1\", \"Topic1\", \"Topic1\", \"Topic1\", \"Topic1\", \"Topic1\", \"Topic1\", \"Topic1\", \"Topic1\", \"Topic1\", \"Topic1\", \"Topic1\", \"Topic1\", \"Topic1\", \"Topic1\", \"Topic1\", \"Topic1\", \"Topic1\", \"Topic1\", \"Topic1\", \"Topic1\", \"Topic1\", \"Topic1\", \"Topic1\", \"Topic1\", \"Topic1\", \"Topic1\", \"Topic1\", \"Topic1\", \"Topic1\", \"Topic1\", \"Topic1\", \"Topic1\", \"Topic1\", \"Topic1\", \"Topic1\", \"Topic1\", \"Topic1\", \"Topic1\", \"Topic1\", \"Topic1\", \"Topic2\", \"Topic2\", \"Topic2\", \"Topic2\", \"Topic2\", \"Topic2\", \"Topic2\", \"Topic2\", \"Topic2\", \"Topic2\", \"Topic2\", \"Topic2\", \"Topic2\", \"Topic2\", \"Topic2\", \"Topic2\", \"Topic2\", \"Topic2\", \"Topic2\", \"Topic2\", \"Topic2\", \"Topic2\", \"Topic2\", \"Topic2\", \"Topic2\", \"Topic2\", \"Topic2\", \"Topic2\", \"Topic2\", \"Topic2\", \"Topic2\", \"Topic2\", \"Topic2\", \"Topic2\", \"Topic2\", \"Topic2\", \"Topic2\", \"Topic2\", \"Topic2\", \"Topic2\", \"Topic2\", \"Topic2\", \"Topic2\", \"Topic2\", \"Topic2\", \"Topic2\", \"Topic2\", \"Topic2\", \"Topic2\", \"Topic2\", \"Topic2\", \"Topic2\", \"Topic2\", \"Topic2\", \"Topic2\", \"Topic2\", \"Topic2\", \"Topic2\", \"Topic2\", \"Topic3\", \"Topic3\", \"Topic3\", \"Topic3\", \"Topic3\", \"Topic3\", \"Topic3\", \"Topic3\", \"Topic3\", \"Topic3\", \"Topic3\", \"Topic3\", \"Topic3\", \"Topic3\", \"Topic3\", \"Topic3\", \"Topic3\", \"Topic3\", \"Topic3\", \"Topic3\", \"Topic3\", \"Topic3\", \"Topic3\", \"Topic3\", \"Topic3\", \"Topic3\", \"Topic3\", \"Topic3\", \"Topic3\", \"Topic3\", \"Topic3\", \"Topic3\", \"Topic3\", \"Topic3\", \"Topic3\", \"Topic3\", \"Topic3\", \"Topic3\", \"Topic3\", \"Topic3\", \"Topic3\", \"Topic3\", \"Topic3\", \"Topic3\", \"Topic3\", \"Topic3\", \"Topic3\", \"Topic3\", \"Topic3\", \"Topic3\", \"Topic3\", \"Topic3\", \"Topic3\", \"Topic3\", \"Topic3\", \"Topic3\", \"Topic3\", \"Topic3\", \"Topic4\", \"Topic4\", \"Topic4\", \"Topic4\", \"Topic4\", \"Topic4\", \"Topic4\", \"Topic4\", \"Topic4\", \"Topic4\", \"Topic4\", \"Topic4\", \"Topic4\", \"Topic4\", \"Topic4\", \"Topic4\", \"Topic4\", \"Topic4\", \"Topic4\", \"Topic4\", \"Topic4\", \"Topic4\", \"Topic4\", \"Topic4\", \"Topic4\", \"Topic4\", \"Topic4\", \"Topic4\", \"Topic4\", \"Topic4\", \"Topic4\", \"Topic4\", \"Topic4\", \"Topic4\", \"Topic4\", \"Topic4\", \"Topic4\", \"Topic4\", \"Topic4\", \"Topic4\", \"Topic4\", \"Topic4\", \"Topic4\", \"Topic4\", \"Topic4\", \"Topic4\", \"Topic4\", \"Topic4\", \"Topic4\", \"Topic4\", \"Topic4\", \"Topic4\", \"Topic4\", \"Topic4\", \"Topic4\", \"Topic4\", \"Topic4\", \"Topic4\", \"Topic4\"], \"logprob\": [30.0, 29.0, 28.0, 27.0, 26.0, 25.0, 24.0, 23.0, 22.0, 21.0, 20.0, 19.0, 18.0, 17.0, 16.0, 15.0, 14.0, 13.0, 12.0, 11.0, 10.0, 9.0, 8.0, 7.0, 6.0, 5.0, 4.0, 3.0, 2.0, 1.0, -4.2904, -4.9066, -5.2687, -5.7706, -5.8439, -5.8709, -6.2876, -6.1876, -6.4822, -5.8476, -6.3562, -6.1109, -6.594, -6.2341, -6.4574, -6.7164, -6.2851, -5.2073, -6.9917, -6.7699, -6.9313, -6.5899, -5.8215, -6.9451, -6.2324, -7.1315, -6.7726, -6.9197, -6.9009, -6.0573, -5.2407, -6.0201, -4.996, -5.886, -4.9055, -5.5123, -4.7855, -6.0246, -5.3791, -5.666, -5.4136, -4.8791, -5.4466, -5.2912, -5.7013, -5.9847, -4.5181, -5.779, -5.122, -5.8006, -5.6683, -5.5635, -5.8775, -5.872, -5.7091, -5.8144, -4.4784, -5.9482, -6.5588, -6.7378, -6.8189, -6.4303, -5.4814, -6.6465, -6.4195, -6.9311, -6.6991, -7.1687, -5.6889, -7.0266, -6.4688, -6.8982, -7.2855, -5.8805, -7.0195, -7.2845, -6.8133, -7.3973, -7.476, -6.2312, -7.1459, -7.4264, -7.3152, -7.5201, -5.5708, -5.6559, -6.2038, -5.1477, -4.5823, -5.2025, -5.5047, -5.0157, -5.1061, -5.0817, -6.4914, -5.1185, -5.8536, -5.1481, -6.1312, -4.8193, -4.7944, -6.1097, -5.8159, -5.7926, -6.1791, -5.6661, -5.9096, -6.0643, -5.9993, -5.9765, -5.8657, -6.0624, -6.0494, -5.4403, -3.7893, -5.7718, -5.8471, -5.8227, -6.5792, -6.6922, -6.2398, -6.6165, -5.8903, -6.7705, -6.8236, -6.7781, -6.6522, -6.0273, -6.3384, -6.7017, -6.7296, -6.2458, -7.0778, -7.1029, -7.2162, -6.5536, -7.0814, -6.8921, -6.6486, -7.0912, -6.5199, -6.4949, -7.2409, -4.5952, -5.8721, -5.1077, -6.2255, -6.2569, -6.0522, -6.4137, -5.8494, -3.8037, -6.049, -6.033, -5.9928, -5.3177, -5.2557, -5.8715, -6.0011, -5.6907, -6.1116, -6.1872, -5.7632, -5.7193, -6.1814, -5.986, -6.0592, -6.0599, -6.1539, -6.0956, -6.1331, -4.7542, -5.6082, -6.4939, -6.3351, -5.7974, -6.9909, -6.1685, -6.9181, -6.8842, -6.3847, -5.6989, -7.0806, -6.8378, -6.2124, -7.1369, -6.9596, -5.4747, -7.1027, -6.9345, -6.4391, -7.3092, -7.3231, -6.1652, -7.2902, -5.4696, -7.1799, -7.3467, -7.4532, -7.3904, -6.9683, -6.8528, -6.7159, -6.4388, -6.7488, -6.2113, -5.309, -6.7015, -6.77, -5.3484, -5.6376, -6.6833, -6.2477, -6.0824, -6.0263, -6.2072, -6.2148, -6.5803, -6.0163, -5.165, -6.5976, -6.1497, -5.0744, -6.0486, -6.2772, -6.2767, -6.1317, -6.1704, -6.0844, -6.2263], \"loglift\": [30.0, 29.0, 28.0, 27.0, 26.0, 25.0, 24.0, 23.0, 22.0, 21.0, 20.0, 19.0, 18.0, 17.0, 16.0, 15.0, 14.0, 13.0, 12.0, 11.0, 10.0, 9.0, 8.0, 7.0, 6.0, 5.0, 4.0, 3.0, 2.0, 1.0, 1.168, 1.1667, 1.1485, 1.1442, 1.1431, 1.1413, 1.1346, 1.134, 1.1301, 1.1295, 1.1163, 1.1094, 1.1068, 1.1045, 1.1043, 1.1025, 1.1014, 1.0924, 1.0907, 1.0895, 1.0876, 1.0868, 1.0859, 1.0858, 1.0825, 1.0812, 1.0808, 1.0802, 1.0764, 1.0757, 1.0423, 1.0572, 1.0235, 1.0382, 0.9819, 1.0138, 0.9732, 0.9843, 0.883, 0.9264, 0.8733, 0.6997, 0.8274, 0.7195, 0.8493, 0.956, 0.0541, 0.7998, 0.2503, 0.7866, 0.6206, 0.3426, 0.6327, 0.2541, 1.2676, 1.2586, 1.2307, 1.2276, 1.2251, 1.2033, 1.1987, 1.1935, 1.1884, 1.1861, 1.1841, 1.1735, 1.1705, 1.1658, 1.1638, 1.1568, 1.1562, 1.1543, 1.153, 1.1513, 1.1511, 1.1427, 1.1427, 1.1409, 1.1399, 1.1381, 1.1342, 1.1291, 1.1287, 1.1278, 1.1159, 1.1157, 1.116, 1.0882, 1.0518, 1.0654, 1.0661, 1.0374, 1.0382, 1.0261, 1.0848, 0.8952, 0.9821, 0.8004, 1.0031, 0.6216, 0.5779, 0.9109, 0.728, 0.6585, 0.9194, 0.46, 0.5594, 0.726, 0.574, 0.3766, -0.2868, 0.1947, -1.4772, 1.4077, 1.3711, 1.3707, 1.3688, 1.3626, 1.3529, 1.3494, 1.349, 1.3434, 1.3394, 1.3281, 1.3276, 1.3255, 1.3252, 1.323, 1.3229, 1.3179, 1.3131, 1.3127, 1.3072, 1.3059, 1.3038, 1.3009, 1.3007, 1.2912, 1.2882, 1.279, 1.2739, 1.2707, 1.2682, 1.2642, 1.2647, 1.2384, 1.2515, 1.2489, 1.2304, 1.2444, 1.1478, 0.7685, 1.1624, 1.1508, 1.1312, 0.8655, 0.6504, 0.9206, 0.9669, 0.7561, 1.0234, 1.0602, 0.7632, 0.5312, 1.0073, 0.5579, 0.5843, 0.4815, 0.72, -0.0849, 0.1855, 1.5968, 1.5838, 1.5329, 1.5124, 1.4981, 1.496, 1.4893, 1.4821, 1.4812, 1.4797, 1.4671, 1.4648, 1.4619, 1.4572, 1.4559, 1.454, 1.4522, 1.4501, 1.4489, 1.447, 1.4462, 1.444, 1.4386, 1.4357, 1.4353, 1.4323, 1.4283, 1.4266, 1.4243, 1.4155, 1.4132, 1.4091, 1.3993, 1.4024, 1.356, 1.2677, 1.3748, 1.3823, 0.9912, 1.0559, 1.3381, 1.1782, 1.0972, 1.0408, 1.0907, 1.0811, 1.2677, 0.9063, 0.276, 1.2759, 0.8312, -0.5021, 0.5949, 0.8065, 0.7717, 0.2214, 0.1185, -0.5056, -0.854]}, \"token.table\": {\"Topic\": [1, 2, 3, 4, 1, 2, 3, 4, 1, 2, 3, 4, 1, 2, 3, 4, 1, 2, 3, 4, 1, 2, 3, 4, 1, 2, 3, 4, 1, 2, 3, 4, 1, 2, 3, 4, 1, 2, 3, 4, 1, 2, 3, 4, 1, 2, 3, 4, 1, 2, 3, 4, 1, 2, 3, 4, 1, 2, 3, 4, 1, 2, 3, 4, 1, 2, 3, 4, 1, 2, 3, 4, 1, 2, 3, 4, 1, 2, 3, 4, 1, 2, 3, 4, 1, 2, 3, 4, 1, 2, 3, 4, 1, 2, 3, 4, 1, 2, 3, 4, 1, 2, 3, 4, 1, 2, 3, 4, 1, 2, 3, 4, 1, 2, 3, 4, 1, 2, 3, 4, 1, 2, 3, 4, 1, 2, 3, 4, 1, 2, 3, 4, 1, 2, 3, 4, 1, 2, 3, 4, 1, 2, 3, 4, 1, 2, 3, 4, 1, 2, 3, 4, 1, 2, 3, 4, 1, 2, 3, 4, 1, 2, 3, 4, 1, 2, 3, 4, 1, 2, 3, 4, 1, 2, 3, 4, 1, 2, 3, 4, 1, 2, 3, 4, 1, 2, 3, 4, 1, 2, 3, 4, 1, 2, 3, 4, 1, 2, 3, 4, 1, 2, 3, 4, 1, 2, 3, 4, 1, 2, 3, 4, 1, 2, 3, 4, 1, 2, 3, 4, 1, 2, 3, 4, 1, 2, 3, 4, 1, 2, 3, 4, 1, 2, 3, 4, 1, 2, 3, 4, 1, 2, 3, 4, 1, 2, 3, 4, 1, 2, 3, 4, 1, 2, 3, 4, 1, 2, 3, 4, 1, 2, 3, 4, 1, 2, 3, 4, 1, 2, 3, 4, 1, 2, 3, 4, 1, 2, 3, 4, 1, 2, 3, 4, 1, 2, 3, 4, 1, 2, 3, 4, 1, 2, 3, 4, 1, 2, 3, 4, 1, 2, 3, 4, 1, 2, 3, 4, 1, 2, 3, 4, 1, 2, 3, 4, 1, 2, 3, 4, 1, 2, 3, 4, 1, 2, 3, 4, 1, 2, 3, 4, 1, 2, 3, 4, 1, 2, 3, 4, 1, 2, 3, 4, 1, 2, 3, 4, 1, 2, 3, 4, 1, 2, 3, 4, 1, 2, 3, 4, 1, 2, 3, 4, 1, 2, 3, 4, 1, 2, 3, 4, 1, 2, 3, 4, 1, 2, 3, 4, 1, 2, 3, 4, 1, 2, 3, 4, 1, 2, 3, 4, 1, 2, 3, 4, 1, 2, 3, 4, 1, 2, 3, 4, 1, 2, 3, 4, 1, 2, 3, 4, 1, 2, 3, 4, 1, 2, 3, 4, 1, 2, 3, 4, 1, 2, 3, 4, 1, 2, 3, 4, 1, 2, 3, 4, 1, 2, 3, 4, 1, 2, 3, 4, 1, 2, 3, 4, 1, 2, 3, 4, 1, 2, 3, 4, 1, 2, 3, 4, 1, 2, 3, 4, 1, 2, 3, 4, 1, 2, 3, 4, 1, 2, 3, 4, 1, 2, 3, 4, 1, 2, 3, 4, 1, 2, 3, 4, 1, 2, 3, 4, 1, 2, 3, 4, 1, 2, 3, 4, 1, 2, 3, 4, 1, 2, 3, 4, 1, 2, 3, 4, 1, 2, 3, 4, 1, 2, 3, 4, 1, 2, 3, 4, 1, 2, 3, 4, 1, 2, 3, 4, 1, 2, 3, 4, 1, 2, 3, 4, 1, 2, 3, 4, 1, 2, 3, 4, 1, 2, 3, 4, 1, 2, 3, 4, 1, 2, 3, 4, 1, 2, 3, 4, 1, 2, 3, 4, 1, 2, 3, 4, 1, 2, 3, 4, 1, 2, 3, 4, 1, 2, 3, 4, 1, 2, 3, 4, 1, 2, 3, 4, 1, 2, 3, 4, 1, 2, 3, 4, 1, 2, 3, 4, 1, 2, 3, 4, 1, 2, 3, 4, 1, 2, 3, 4, 1, 2, 3, 4, 1, 2, 3, 4, 1, 2, 3, 4, 1, 2, 3, 4, 1, 2, 3, 4, 1, 2, 3, 4, 1, 2, 3, 4, 1, 2, 3, 4, 1, 2, 3, 4, 1, 2, 3, 4, 1, 2, 3, 4, 1, 2, 3, 4, 1, 2, 3, 4, 1, 2, 3, 4, 1, 2, 3, 4, 1, 2, 3, 4, 1, 2, 3, 4, 1, 2, 3, 4, 1, 2, 3, 4, 1, 2, 3, 4, 1, 2, 3, 4, 1, 2, 3, 4, 1, 2, 3, 4, 1, 2, 3, 4, 1, 2, 3, 4, 1, 2, 3, 4, 1, 2, 3, 4, 1, 2, 3, 4, 1, 2, 3, 4, 1, 2, 3, 4, 1, 2, 3, 4, 1, 2, 3, 4, 1, 2, 3, 4, 1, 2, 3, 4, 1, 2, 3, 4, 1, 2, 3, 4, 1, 2, 3, 4, 1, 2, 3, 4, 1, 2, 3, 4, 1, 2, 3, 4, 1, 2, 3, 4, 1, 2, 3, 4, 1, 2, 3, 4, 1, 2, 3, 4, 1, 2, 3, 4, 1, 2, 3, 4, 1, 2, 3, 4, 1, 2, 3, 4, 1, 2, 3, 4, 1, 2, 3, 4, 1, 2, 3, 4, 1, 2, 3, 4, 1, 2, 3, 4, 1, 2, 3, 4, 1, 2, 3, 4, 1, 2, 3, 4, 1, 2, 3, 4, 1, 2, 3, 4, 1, 2, 3, 4, 1, 2, 3, 4, 1, 2, 3, 4], \"Freq\": [0.0367200082679942, 0.0367200082679942, 0.918000206699855, 0.0183600041339971, 0.06276079574890664, 0.7280252306873171, 0.16317806894715725, 0.05020863659912531, 0.091143816296688, 0.091143816296688, 0.045571908148344, 0.774722438521848, 0.9042318221712263, 0.03931442705092288, 0.03931442705092288, 0.03931442705092288, 0.07008449985225144, 0.8410139982270173, 0.07008449985225144, 0.07008449985225144, 0.027053621983995534, 0.8927695254718526, 0.0811608659519866, 0.027053621983995534, 0.07060225689743015, 0.8825282112178768, 0.03530112844871507, 0.03530112844871507, 0.07880811039886051, 0.7577702922967356, 0.09699459741398217, 0.06668378572211274, 0.06520919499816992, 0.3782133309893855, 0.48254804298645737, 0.09129287299743788, 0.03190242764073455, 0.8932679739405676, 0.03190242764073455, 0.042536570187646075, 0.03848517289546115, 0.8466738037001452, 0.0769703457909223, 0.03848517289546115, 0.9255450418608032, 0.023731924150277008, 0.023731924150277008, 0.023731924150277008, 0.6271437640083913, 0.06051387196572197, 0.21454918242392337, 0.09902269958027232, 0.7676913925247235, 0.029526592020181673, 0.04921098670030279, 0.15747515744096893, 0.3331499894439469, 0.3951313828288673, 0.03099069669246018, 0.2401778993665664, 0.01792618710881684, 0.01792618710881684, 0.01792618710881684, 0.9321617296584757, 0.14175328657078173, 0.07087664328539087, 0.07087664328539087, 0.6733281112112133, 0.348345497509416, 0.15965835302514902, 0.058057582918236005, 0.43543187188677007, 0.11822270832979329, 0.03783126666553385, 0.8228300499753612, 0.028373449999150386, 0.016964285241324505, 0.03392857048264901, 0.8142856915835762, 0.13571428193059604, 0.7947614471845661, 0.16731819940727707, 0.013943183283939755, 0.02788636656787951, 0.9022542574231893, 0.02910497604590933, 0.02910497604590933, 0.02910497604590933, 0.9132680222315198, 0.041512182828705446, 0.020756091414352723, 0.020756091414352723, 0.10484308761399573, 0.6676849263838676, 0.18761394625662395, 0.04414445794273505, 0.8667537659947286, 0.03611474024978036, 0.014445896099912144, 0.07945242854951678, 0.12422207734905334, 0.2950274337040017, 0.15527759668631666, 0.419249511053055, 0.05321613887565813, 0.8514582220105301, 0.05321613887565813, 0.05321613887565813, 0.45092604573459666, 0.025524115796297923, 0.49346623872842654, 0.025524115796297923, 0.07897147145801933, 0.8160385383995331, 0.05264764763867955, 0.07897147145801933, 0.03791486279965722, 0.9099567071917735, 0.03791486279965722, 0.03791486279965722, 0.057958651144746506, 0.057958651144746506, 0.057958651144746506, 0.8693797671711977, 0.09083406980018419, 0.09083406980018419, 0.09083406980018419, 0.8175066282016578, 0.07274753018607, 0.07274753018607, 0.07274753018607, 0.80022283204677, 0.08560199077112578, 0.08560199077112578, 0.08560199077112578, 0.7704179169401321, 0.027638613144144827, 0.8567970074684896, 0.08291583943243448, 0.027638613144144827, 0.981597044174364, 0.006332884155963639, 0.006332884155963639, 0.006332884155963639, 0.051179752341159575, 0.01705991744705319, 0.9212355421408723, 0.01705991744705319, 0.3951600617063085, 0.43220631749127497, 0.1667081510323489, 0.006174375964161071, 0.09733528846353276, 0.8327574679657802, 0.043260128206014554, 0.03244509615451092, 0.6657757574704191, 0.06853573973960196, 0.02937245988840084, 0.2349796791072067, 0.037578808980984, 0.037578808980984, 0.901891415543616, 0.037578808980984, 0.11325547973631248, 0.037751826578770825, 0.8305401847329581, 0.037751826578770825, 0.07687403123484, 0.8456143435832401, 0.07687403123484, 0.07687403123484, 0.05427286019773758, 0.05427286019773758, 0.05427286019773758, 0.8140929029660637, 0.03477260702220826, 0.06954521404441652, 0.8693151755552064, 0.03477260702220826, 0.06888541055123497, 0.8266249266148196, 0.06888541055123497, 0.06888541055123497, 0.08680703518298803, 0.08680703518298803, 0.08680703518298803, 0.7378597990553982, 0.84913719854572, 0.061049079634006014, 0.011099832660728367, 0.07769882862509857, 0.8790932454999905, 0.015983513554545282, 0.031967027109090565, 0.06393405421818113, 0.017638556918642034, 0.9348435166880278, 0.017638556918642034, 0.03527711383728407, 0.06234890332357633, 0.8728846465300686, 0.06234890332357633, 0.06234890332357633, 0.8956779798410219, 0.0675983381012092, 0.0168995845253023, 0.0168995845253023, 0.3202978243209572, 0.0588302126303799, 0.5490819845502124, 0.07190359321490877, 0.06164915438385355, 0.8630881613739497, 0.06164915438385355, 0.06164915438385355, 0.19600569570810164, 0.08711364253693406, 0.16333807975675135, 0.5444602658558378, 0.04769579809226091, 0.8585243656606963, 0.04769579809226091, 0.04769579809226091, 0.11918762196117548, 0.023837524392235097, 0.8104758293359933, 0.047675048784470195, 0.04678500949657881, 0.04678500949657881, 0.8889151804349973, 0.04678500949657881, 0.6796463560129449, 0.08738310291595006, 0.16505697217457233, 0.0679646356012945, 0.7173744938071576, 0.08495224268768971, 0.028317414229229905, 0.16990448537537942, 0.8954973869614121, 0.049749854831189565, 0.049749854831189565, 0.049749854831189565, 0.058233196374688906, 0.058233196374688906, 0.8152647492456447, 0.058233196374688906, 0.22228619153939988, 0.6048252188397625, 0.13440560418661388, 0.03618612420408835, 0.11713534890514955, 0.8061668130530881, 0.0482322024903557, 0.034451573207396925, 0.23488756812811293, 0.47847467581652636, 0.13049309340450718, 0.15659171208540862, 0.009375866423084463, 0.5625519853850678, 0.4031622561926319, 0.018751732846168927, 0.06362744088531616, 0.03181372044265808, 0.8271567315091101, 0.06362744088531616, 0.8918689309054622, 0.020269748429669596, 0.020269748429669596, 0.06080924528900878, 0.6143904759446798, 0.2036061460979462, 0.06786871536598207, 0.11430520482691717, 0.06726207791487136, 0.12107174024676846, 0.013452415582974274, 0.8071449349784564, 0.38005765658457297, 0.33079092332360976, 0.2252193520501173, 0.0633429427640955, 0.46406742061803286, 0.10478941755891065, 0.2769434606914067, 0.14969916794130092, 0.11324986002352219, 0.04529994400940888, 0.20384974804233993, 0.6115492441270198, 0.08729218573833873, 0.08729218573833873, 0.08729218573833873, 0.7856296716450486, 0.17867902216271586, 0.1250753155139011, 0.6432444797857771, 0.07147160886508634, 0.03272271876920835, 0.03272271876920835, 0.8180679692302087, 0.09816815630762504, 0.1760806622235559, 0.062146116078902074, 0.4143074405260138, 0.34180363843396144, 0.9035100565569555, 0.013485224724730679, 0.0674261236236534, 0.013485224724730679, 0.12596173369325914, 0.14534046195376055, 0.04844682065125352, 0.6782554891175492, 0.06840946002653589, 0.13681892005307178, 0.034204730013267945, 0.7867087903051628, 0.9510046729444607, 0.013585781042063724, 0.013585781042063724, 0.013585781042063724, 0.04093266736323282, 0.9005186819911221, 0.04093266736323282, 0.04093266736323282, 0.060008228618030075, 0.060008228618030075, 0.060008228618030075, 0.8401152006524211, 0.08310983392561896, 0.08310983392561896, 0.08310983392561896, 0.8310983392561896, 0.04438092045513474, 0.04438092045513474, 0.8876184091026948, 0.04438092045513474, 0.05893023794538292, 0.05893023794538292, 0.825023331235361, 0.05893023794538292, 0.04906684411642293, 0.12266711029105733, 0.8096029279209783, 0.024533422058211466, 0.06109305558506181, 0.8553027781908653, 0.015273263896265453, 0.06109305558506181, 0.8209902332009235, 0.149270951491077, 0.014927095149107698, 0.014927095149107698, 0.04830741259966958, 0.04830741259966958, 0.8212260141943829, 0.04830741259966958, 0.10904388165887806, 0.769046323278403, 0.040174061663797174, 0.08608727499385109, 0.22737192528389574, 0.03789532088064929, 0.6631681154113626, 0.07579064176129859, 0.05910399071426861, 0.05910399071426861, 0.8865598607140291, 0.05910399071426861, 0.40218992442748586, 0.09353254056453159, 0.37413016225812634, 0.12159230273389107, 0.13060873870796436, 0.6856958782168129, 0.06530436935398218, 0.13060873870796436, 0.05584613243597519, 0.03723075495731679, 0.8935381189756031, 0.018615377478658397, 0.1049390211182882, 0.0524695105591441, 0.0524695105591441, 0.7870426583871616, 0.8381714823226143, 0.0460533781495942, 0.07368540503935071, 0.0460533781495942, 0.13738743498606085, 0.03925355285316024, 0.7850710570632048, 0.01962677642658012, 0.03561241722612734, 0.053418625839191006, 0.9081166392662471, 0.01780620861306367, 0.9170887268751067, 0.04367089175595746, 0.04367089175595746, 0.04367089175595746, 0.14448154033940078, 0.7898324205220575, 0.04816051344646692, 0.01926420537858677, 0.4310828175538374, 0.10900944811706233, 0.4459477422970732, 0.014864924743235773, 0.3922240681598064, 0.4851956991310198, 0.04358045201775627, 0.0813501770998117, 0.9398777030796979, 0.014459656970456891, 0.028919313940913783, 0.014459656970456891, 0.03401745977526377, 0.884453954156858, 0.06803491955052754, 0.03401745977526377, 0.08561040563375703, 0.8561040563375704, 0.02140260140843926, 0.04280520281687852, 0.9243186104193984, 0.02981672936836769, 0.02981672936836769, 0.02981672936836769, 0.3598732570310783, 0.563801436015356, 0.059978876171846385, 0.023991550468738555, 0.01445322146708233, 0.9683658382945161, 0.01445322146708233, 0.01445322146708233, 0.2983471886417426, 0.09944906288058085, 0.019889812576116172, 0.5569147521312527, 0.8120806216865885, 0.1264317135559958, 0.03890206570953717, 0.019451032854768586, 0.026659383667108707, 0.053318767334217414, 0.9064190446816961, 0.026659383667108707, 0.04460553612803091, 0.04460553612803091, 0.8921107225606183, 0.04460553612803091, 0.025152219252848225, 0.7671426872118708, 0.12576109626424112, 0.08174471257175674, 0.1623576675238965, 0.5212535641556677, 0.2734444926718257, 0.03418056158397821, 0.055215845861173264, 0.8834535337787722, 0.027607922930586632, 0.027607922930586632, 0.05900784865138749, 0.05900784865138749, 0.05900784865138749, 0.8261098811194248, 0.06990154539750858, 0.06990154539750858, 0.06990154539750858, 0.838818544770103, 0.9220274651729596, 0.018440549303459192, 0.018440549303459192, 0.036881098606918385, 0.04197325656664709, 0.04197325656664709, 0.8814383878995888, 0.04197325656664709, 0.07417396320818015, 0.07417396320818015, 0.07417396320818015, 0.8159135952899816, 0.9145743238865278, 0.04355115828031085, 0.021775579140155425, 0.021775579140155425, 0.1538730816813821, 0.03077461633627642, 0.800140024743187, 0.01538730816813821, 0.8080904898627858, 0.09833905432192631, 0.01282683317242517, 0.07696099903455103, 0.1643597024819206, 0.04108992562048015, 0.0821798512409603, 0.7396186611686427, 0.06544229254752261, 0.06544229254752261, 0.06544229254752261, 0.8507498031177939, 0.3282765694628006, 0.48275966097470674, 0.09655193219494135, 0.08689673897544721, 0.1431462937136879, 0.5072357798985028, 0.09958003040952201, 0.2520619519741026, 0.012709498455401947, 0.025418996910803893, 0.953212384155146, 0.012709498455401947, 0.9080072825928996, 0.025943065216939988, 0.025943065216939988, 0.025943065216939988, 0.023546961201450903, 0.8241436420507815, 0.023546961201450903, 0.1177348060072545, 0.03931871312681445, 0.03931871312681445, 0.865011688789918, 0.03931871312681445, 0.13546972470843463, 0.18627087147409763, 0.6434811923650645, 0.05080114676566299, 0.07023558215225374, 0.03511779107612687, 0.03511779107612687, 0.8428269858270449, 0.15942646133938124, 0.019928307667422655, 0.23913969200907187, 0.5779209223552569, 0.1510264080119643, 0.6796188360538393, 0.04530792240358929, 0.13592376721076788, 0.08660916824655893, 0.08660916824655893, 0.08660916824655893, 0.7794825142190303, 0.5667292593600789, 0.14531519470771254, 0.07265759735385627, 0.2179727920615688, 0.03452840364539513, 0.06905680729079026, 0.03452840364539513, 0.8632100911348782, 0.0517251844339291, 0.0517251844339291, 0.8534655431598301, 0.0517251844339291, 0.04074188330476999, 0.8352086077477847, 0.04074188330476999, 0.08148376660953997, 0.06876572557732956, 0.013753145115465912, 0.1100251609237273, 0.8114355618124889, 0.17801066112627442, 0.013693127778944186, 0.32863506669466047, 0.47925947226304655, 0.2292671106184539, 0.08597516648192022, 0.6161553597870949, 0.07164597206826684, 0.014753203433068523, 0.029506406866137046, 0.7376601716534262, 0.20654484806295934, 0.32243630866465983, 0.06265968751378005, 0.49997208995370335, 0.11618150393180052, 0.9780071418733237, 0.005856330190858226, 0.005856330190858226, 0.005856330190858226, 0.05712204575818396, 0.02856102287909198, 0.05712204575818396, 0.8568306863727594, 0.03239968392653193, 0.939590833869426, 0.03239968392653193, 0.03239968392653193, 0.06052765197337549, 0.06052765197337549, 0.8473871276272569, 0.06052765197337549, 0.04192517648561989, 0.04192517648561989, 0.8804287061980177, 0.04192517648561989, 0.060818741278992575, 0.060818741278992575, 0.060818741278992575, 0.7906436366269035, 0.18614410339007365, 0.7445764135602946, 0.033844382434558846, 0.033844382434558846, 0.11074956735908592, 0.04746410029675111, 0.3006059685460904, 0.537926470029846, 0.015916572826914287, 0.9549943696148573, 0.015916572826914287, 0.015916572826914287, 0.0693856332770643, 0.0693856332770643, 0.0693856332770643, 0.8326275993247717, 0.15652877456135442, 0.7897588171050154, 0.021344832894730145, 0.03557472149121691, 0.9585172342836515, 0.014976831785682055, 0.014976831785682055, 0.014976831785682055, 0.6943598467487768, 0.071583489355544, 0.0501084425488808, 0.17895872338886, 0.09693753468078818, 0.09693753468078818, 0.09693753468078818, 0.7755002774463055, 0.05619300870663528, 0.8990881393061645, 0.05619300870663528, 0.05619300870663528, 0.09366282120834152, 0.04683141060417076, 0.09366282120834152, 0.7493025696667321, 0.06268356054642564, 0.8148862871035333, 0.06268356054642564, 0.06268356054642564, 0.9016110701198085, 0.040982321369082204, 0.040982321369082204, 0.040982321369082204, 0.09356670266996063, 0.09356670266996063, 0.046783351334980315, 0.7953169726946654, 0.0698702264926255, 0.052402669869469135, 0.052402669869469135, 0.8209751612883497, 0.31464894927221826, 0.26570355716320654, 0.3915631368720938, 0.027968795490863844, 0.09652188436724521, 0.22521773019023883, 0.24130471091811304, 0.4343484796526034, 0.910733053972939, 0.014689242806015147, 0.014689242806015147, 0.06610159262706816, 0.15072887683956973, 0.016747652982174416, 0.7201490782334998, 0.1172335708752209, 0.057321981545578965, 0.057321981545578965, 0.8598297231836844, 0.028660990772789482, 0.053115480190218355, 0.3363980412047163, 0.035410320126812236, 0.5665651220289958, 0.9084975251859999, 0.03494221250715384, 0.03494221250715384, 0.03494221250715384, 0.02890048818241881, 0.11560195272967524, 0.02890048818241881, 0.8092136691077267, 0.7324231810834217, 0.18129286660480737, 0.07251714664192295, 0.021755143992576883, 0.06691318714792845, 0.06691318714792845, 0.8029582457751413, 0.06691318714792845, 0.07952252304647578, 0.019880630761618945, 0.03976126152323789, 0.8548671227496146, 0.9125251394926277, 0.041478415431483076, 0.041478415431483076, 0.041478415431483076, 0.963841818530575, 0.014603663917129925, 0.014603663917129925, 0.014603663917129925, 0.08571323379966461, 0.028571077933221535, 0.799990182130203, 0.08571323379966461, 0.03865727191267378, 0.007731454382534755, 0.01546290876506951, 0.9432374346692401, 0.9387686177757755, 0.020408013429908164, 0.020408013429908164, 0.020408013429908164, 0.05902775513178495, 0.1180555102635699, 0.05902775513178495, 0.7673608167132044, 0.9031167515561055, 0.03473525967523483, 0.03473525967523483, 0.03473525967523483, 0.19558783204732982, 0.05334213601290814, 0.7290091921764112, 0.01778071200430271, 0.06299875035674364, 0.04199916690449576, 0.860982921542163, 0.02099958345224788, 0.5711204049374577, 0.2810275008422411, 0.10878483903570624, 0.02719620975892656, 0.04464992989387841, 0.8929985978775682, 0.04464992989387841, 0.04464992989387841, 0.884699261926276, 0.040213602814830725, 0.040213602814830725, 0.040213602814830725, 0.05483727728161146, 0.09139546213601911, 0.7494427895153567, 0.12795364699042674, 0.03454698452685871, 0.241828891688011, 0.03454698452685871, 0.6909396905371743, 0.07522103879390767, 0.004701314924619229, 0.91440575283844, 0.004701314924619229, 0.02553510523271394, 0.8681935779122739, 0.07660531569814182, 0.02553510523271394, 0.041011624937349465, 0.041011624937349465, 0.8612441236843388, 0.041011624937349465, 0.04831075052436531, 0.8695935094385755, 0.04831075052436531, 0.04831075052436531, 0.9551943171887112, 0.027291266205391747, 0.027291266205391747, 0.027291266205391747, 0.0811822163153385, 0.054121477543559005, 0.054121477543559005, 0.8118221631533851, 0.9478878308349037, 0.022568757877021516, 0.022568757877021516, 0.022568757877021516, 0.9059592455386767, 0.033554046131062096, 0.033554046131062096, 0.033554046131062096, 0.9581733954949592, 0.016520230956809642, 0.016520230956809642, 0.008260115478404821, 0.8640063394985213, 0.0960007043887246, 0.01371438634124637, 0.02742877268249274, 0.0423817143890928, 0.847634287781856, 0.0847634287781856, 0.0423817143890928, 0.7356160313162612, 0.09195200391453265, 0.07073231070348665, 0.09902523498488132, 0.05218469158355696, 0.13046172895889238, 0.07827703737533544, 0.7305856821697974, 0.4514584609805335, 0.027640313937583684, 0.4975256508765063, 0.027640313937583684, 0.10765992750464663, 0.035886642501548875, 0.035886642501548875, 0.8253927775356242, 0.038632389244341835, 0.038632389244341835, 0.8885449526198622, 0.038632389244341835, 0.07445182578277182, 0.81897008361049, 0.07445182578277182, 0.07445182578277182, 0.06764263574221795, 0.06764263574221795, 0.8793542646488333, 0.06764263574221795, 0.06417497193290708, 0.777649659892874, 0.08304996367787974, 0.07549996697989068, 0.36049560158131977, 0.04806608021084264, 0.5767929625301116, 0.01201652005271066, 0.04130996732353578, 0.04130996732353578, 0.04130996732353578, 0.8675093137942513, 0.028482959710071826, 0.9317996819437784, 0.00813798848859195, 0.0325519539543678, 0.1299472067117778, 0.3439779001194118, 0.0076439533359869295, 0.5121448735111243], \"Term\": [\"abortion\", \"abortion\", \"abortion\", \"abortion\", \"accuse\", \"accuse\", \"accuse\", \"accuse\", \"agent\", \"agent\", \"agent\", \"agent\", \"alex_jone\", \"alex_jone\", \"alex_jone\", \"alex_jone\", \"alive\", \"alive\", \"alive\", \"alive\", \"allege\", \"allege\", \"allege\", \"allege\", \"armed\", \"armed\", \"armed\", \"armed\", \"arrest\", \"arrest\", \"arrest\", \"arrest\", \"ask\", \"ask\", \"ask\", \"ask\", \"attack\", \"attack\", \"attack\", \"attack\", \"award\", \"award\", \"award\", \"award\", \"baby\", \"baby\", \"baby\", \"baby\", \"ban\", \"ban\", \"ban\", \"ban\", \"bill\", \"bill\", \"bill\", \"bill\", \"black\", \"black\", \"black\", \"black\", \"block\", \"block\", \"block\", \"block\", \"build\", \"build\", \"build\", \"build\", \"buy\", \"buy\", \"buy\", \"buy\", \"call\", \"call\", \"call\", \"call\", \"campaign\", \"campaign\", \"campaign\", \"campaign\", \"car\", \"car\", \"car\", \"car\", \"care\", \"care\", \"care\", \"care\", \"change\", \"change\", \"change\", \"change\", \"charge\", \"charge\", \"charge\", \"charge\", \"child\", \"child\", \"child\", \"child\", \"city\", \"city\", \"city\", \"city\", \"civil\", \"civil\", \"civil\", \"civil\", \"claim\", \"claim\", \"claim\", \"claim\", \"close\", \"close\", \"close\", \"close\", \"coal\", \"coal\", \"coal\", \"coal\", \"collapse\", \"collapse\", \"collapse\", \"collapse\", \"compete\", \"compete\", \"compete\", \"compete\", \"concern\", \"concern\", \"concern\", \"concern\", \"condemn\", \"condemn\", \"condemn\", \"condemn\", \"convict\", \"convict\", \"convict\", \"convict\", \"covid\", \"covid\", \"covid\", \"covid\", \"cut\", \"cut\", \"cut\", \"cut\", \"day\", \"day\", \"day\", \"day\", \"dead\", \"dead\", \"dead\", \"dead\", \"death\", \"death\", \"death\", \"death\", \"defend\", \"defend\", \"defend\", \"defend\", \"defense\", \"defense\", \"defense\", \"defense\", \"deficit\", \"deficit\", \"deficit\", \"deficit\", \"deliver\", \"deliver\", \"deliver\", \"deliver\", \"democracy\", \"democracy\", \"democracy\", \"democracy\", \"department\", \"department\", \"department\", \"department\", \"destroy\", \"destroy\", \"destroy\", \"destroy\", \"die\", \"die\", \"die\", \"die\", \"doctor\", \"doctor\", \"doctor\", \"doctor\", \"dog\", \"dog\", \"dog\", \"dog\", \"drone\", \"drone\", \"drone\", \"drone\", \"drug\", \"drug\", \"drug\", \"drug\", \"election\", \"election\", \"election\", \"election\", \"electricity\", \"electricity\", \"electricity\", \"electricity\", \"end\", \"end\", \"end\", \"end\", \"energy\", \"energy\", \"energy\", \"energy\", \"even\", \"even\", \"even\", \"even\", \"exclusive\", \"exclusive\", \"exclusive\", \"exclusive\", \"face\", \"face\", \"face\", \"face\", \"family\", \"family\", \"family\", \"family\", \"fauci\", \"fauci\", \"fauci\", \"fauci\", \"felony\", \"felony\", \"felony\", \"felony\", \"find\", \"find\", \"find\", \"find\", \"fire\", \"fire\", \"fire\", \"fire\", \"first\", \"first\", \"first\", \"first\", \"former\", \"former\", \"former\", \"former\", \"fraud\", \"fraud\", \"fraud\", \"fraud\", \"gay\", \"gay\", \"gay\", \"gay\", \"get\", \"get\", \"get\", \"get\", \"girl\", \"girl\", \"girl\", \"girl\", \"give\", \"give\", \"give\", \"give\", \"go\", \"go\", \"go\", \"go\", \"good\", \"good\", \"good\", \"good\", \"gop\", \"gop\", \"gop\", \"gop\", \"government\", \"government\", \"government\", \"government\", \"grow\", \"grow\", \"grow\", \"grow\", \"help\", \"help\", \"help\", \"help\", \"high\", \"high\", \"high\", \"high\", \"home\", \"home\", \"home\", \"home\", \"homeless\", \"homeless\", \"homeless\", \"homeless\", \"hospital\", \"hospital\", \"hospital\", \"hospital\", \"husband\", \"husband\", \"husband\", \"husband\", \"identify\", \"identify\", \"identify\", \"identify\", \"impeach\", \"impeach\", \"impeach\", \"impeach\", \"impeachment\", \"impeachment\", \"impeachment\", \"impeachment\", \"interview\", \"interview\", \"interview\", \"interview\", \"investigation\", \"investigation\", \"investigation\", \"investigation\", \"jail\", \"jail\", \"jail\", \"jail\", \"job\", \"job\", \"job\", \"job\", \"join\", \"join\", \"join\", \"join\", \"kill\", \"kill\", \"kill\", \"kill\", \"know\", \"know\", \"know\", \"know\", \"kyle_rittenhouse\", \"kyle_rittenhouse\", \"kyle_rittenhouse\", \"kyle_rittenhouse\", \"law\", \"law\", \"law\", \"law\", \"lawsuit\", \"lawsuit\", \"lawsuit\", \"lawsuit\", \"leader\", \"leader\", \"leader\", \"leader\", \"learn\", \"learn\", \"learn\", \"learn\", \"leave\", \"leave\", \"leave\", \"leave\", \"legal\", \"legal\", \"legal\", \"legal\", \"lie\", \"lie\", \"lie\", \"lie\", \"likely\", \"likely\", \"likely\", \"likely\", \"lose\", \"lose\", \"lose\", \"lose\", \"make\", \"make\", \"make\", \"make\", \"man\", \"man\", \"man\", \"man\", \"mask\", \"mask\", \"mask\", \"mask\", \"meet\", \"meet\", \"meet\", \"meet\", \"miss\", \"miss\", \"miss\", \"miss\", \"mom\", \"mom\", \"mom\", \"mom\", \"month\", \"month\", \"month\", \"month\", \"murder\", \"murder\", \"murder\", \"murder\", \"name\", \"name\", \"name\", \"name\", \"new\", \"new\", \"new\", \"new\", \"news\", \"news\", \"news\", \"news\", \"obama\", \"obama\", \"obama\", \"obama\", \"officer\", \"officer\", \"officer\", \"officer\", \"official\", \"official\", \"official\", \"official\", \"old\", \"old\", \"old\", \"old\", \"oppose\", \"oppose\", \"oppose\", \"oppose\", \"page\", \"page\", \"page\", \"page\", \"parent\", \"parent\", \"parent\", \"parent\", \"passenger\", \"passenger\", \"passenger\", \"passenger\", \"path\", \"path\", \"path\", \"path\", \"patient\", \"patient\", \"patient\", \"patient\", \"pay\", \"pay\", \"pay\", \"pay\", \"people\", \"people\", \"people\", \"people\", \"photo\", \"photo\", \"photo\", \"photo\", \"pick\", \"pick\", \"pick\", \"pick\", \"plan\", \"plan\", \"plan\", \"plan\", \"police\", \"police\", \"police\", \"police\", \"president\", \"president\", \"president\", \"president\", \"price\", \"price\", \"price\", \"price\", \"prison\", \"prison\", \"prison\", \"prison\", \"prosecutor\", \"prosecutor\", \"prosecutor\", \"prosecutor\", \"public\", \"public\", \"public\", \"public\", \"pull\", \"pull\", \"pull\", \"pull\", \"put\", \"put\", \"put\", \"put\", \"remove\", \"remove\", \"remove\", \"remove\", \"repair\", \"repair\", \"repair\", \"repair\", \"report\", \"report\", \"report\", \"report\", \"rescue\", \"rescue\", \"rescue\", \"rescue\", \"resign\", \"resign\", \"resign\", \"resign\", \"return\", \"return\", \"return\", \"return\", \"reveal\", \"reveal\", \"reveal\", \"reveal\", \"right\", \"right\", \"right\", \"right\", \"rule\", \"rule\", \"rule\", \"rule\", \"russian\", \"russian\", \"russian\", \"russian\", \"say\", \"say\", \"say\", \"say\", \"school\", \"school\", \"school\", \"school\", \"scientist\", \"scientist\", \"scientist\", \"scientist\", \"second\", \"second\", \"second\", \"second\", \"secretly\", \"secretly\", \"secretly\", \"secretly\", \"seek\", \"seek\", \"seek\", \"seek\", \"seem\", \"seem\", \"seem\", \"seem\", \"sell\", \"sell\", \"sell\", \"sell\", \"send\", \"send\", \"send\", \"send\", \"sentence\", \"sentence\", \"sentence\", \"sentence\", \"sex_trafficke\", \"sex_trafficke\", \"sex_trafficke\", \"sex_trafficke\", \"shoot\", \"shoot\", \"shoot\", \"shoot\", \"shooting\", \"shooting\", \"shooting\", \"shooting\", \"show\", \"show\", \"show\", \"show\", \"signal\", \"signal\", \"signal\", \"signal\", \"solar\", \"solar\", \"solar\", \"solar\", \"speak\", \"speak\", \"speak\", \"speak\", \"spot\", \"spot\", \"spot\", \"spot\", \"spread\", \"spread\", \"spread\", \"spread\", \"stand\", \"stand\", \"stand\", \"stand\", \"start\", \"start\", \"start\", \"start\", \"state\", \"state\", \"state\", \"state\", \"steal\", \"steal\", \"steal\", \"steal\", \"student\", \"student\", \"student\", \"student\", \"support\", \"support\", \"support\", \"support\", \"supporter\", \"supporter\", \"supporter\", \"supporter\", \"supreme_court\", \"supreme_court\", \"supreme_court\", \"supreme_court\", \"surge\", \"surge\", \"surge\", \"surge\", \"system\", \"system\", \"system\", \"system\", \"take\", \"take\", \"take\", \"take\", \"tape\", \"tape\", \"tape\", \"tape\", \"tax\", \"tax\", \"tax\", \"tax\", \"teach\", \"teach\", \"teach\", \"teach\", \"teacher\", \"teacher\", \"teacher\", \"teacher\", \"team\", \"team\", \"team\", \"team\", \"tell\", \"tell\", \"tell\", \"tell\", \"test\", \"test\", \"test\", \"test\", \"text\", \"text\", \"text\", \"text\", \"theory\", \"theory\", \"theory\", \"theory\", \"think\", \"think\", \"think\", \"think\", \"threat\", \"threat\", \"threat\", \"threat\", \"time\", \"time\", \"time\", \"time\", \"town\", \"town\", \"town\", \"town\", \"treatment\", \"treatment\", \"treatment\", \"treatment\", \"trial\", \"trial\", \"trial\", \"trial\", \"truck\", \"truck\", \"truck\", \"truck\", \"trump\", \"trump\", \"trump\", \"trump\", \"turn\", \"turn\", \"turn\", \"turn\", \"union\", \"union\", \"union\", \"union\", \"united_state\", \"united_state\", \"united_state\", \"united_state\", \"unvaccinated\", \"unvaccinated\", \"unvaccinated\", \"unvaccinated\", \"urge\", \"urge\", \"urge\", \"urge\", \"vaccinate\", \"vaccinate\", \"vaccinate\", \"vaccinate\", \"vaccination\", \"vaccination\", \"vaccination\", \"vaccination\", \"vaccine\", \"vaccine\", \"vaccine\", \"vaccine\", \"video\", \"video\", \"video\", \"video\", \"violent\", \"violent\", \"violent\", \"violent\", \"vote\", \"vote\", \"vote\", \"vote\", \"voting\", \"voting\", \"voting\", \"voting\", \"want\", \"want\", \"want\", \"want\", \"watch\", \"watch\", \"watch\", \"watch\", \"weapon\", \"weapon\", \"weapon\", \"weapon\", \"wind\", \"wind\", \"wind\", \"wind\", \"witness\", \"witness\", \"witness\", \"witness\", \"woman\", \"woman\", \"woman\", \"woman\", \"worker\", \"worker\", \"worker\", \"worker\", \"worth\", \"worth\", \"worth\", \"worth\", \"year\", \"year\", \"year\", \"year\", \"year_old\", \"year_old\", \"year_old\", \"year_old\"]}, \"R\": 30, \"lambda.step\": 0.01, \"plot.opts\": {\"xlab\": \"PC1\", \"ylab\": \"PC2\"}, \"topic.order\": [2, 3, 1, 4]};\n",
       "\n",
       "function LDAvis_load_lib(url, callback){\n",
       "  var s = document.createElement('script');\n",
       "  s.src = url;\n",
       "  s.async = true;\n",
       "  s.onreadystatechange = s.onload = callback;\n",
       "  s.onerror = function(){console.warn(\"failed to load library \" + url);};\n",
       "  document.getElementsByTagName(\"head\")[0].appendChild(s);\n",
       "}\n",
       "\n",
       "if(typeof(LDAvis) !== \"undefined\"){\n",
       "   // already loaded: just create the visualization\n",
       "   !function(LDAvis){\n",
       "       new LDAvis(\"#\" + \"ldavis_el254819802694243046148734704\", ldavis_el254819802694243046148734704_data);\n",
       "   }(LDAvis);\n",
       "}else if(typeof define === \"function\" && define.amd){\n",
       "   // require.js is available: use it to load d3/LDAvis\n",
       "   require.config({paths: {d3: \"https://d3js.org/d3.v5\"}});\n",
       "   require([\"d3\"], function(d3){\n",
       "      window.d3 = d3;\n",
       "      LDAvis_load_lib(\"https://cdn.jsdelivr.net/gh/bmabey/pyLDAvis@3.3.1/pyLDAvis/js/ldavis.v3.0.0.js\", function(){\n",
       "        new LDAvis(\"#\" + \"ldavis_el254819802694243046148734704\", ldavis_el254819802694243046148734704_data);\n",
       "      });\n",
       "    });\n",
       "}else{\n",
       "    // require.js not available: dynamically load d3 & LDAvis\n",
       "    LDAvis_load_lib(\"https://d3js.org/d3.v5.js\", function(){\n",
       "         LDAvis_load_lib(\"https://cdn.jsdelivr.net/gh/bmabey/pyLDAvis@3.3.1/pyLDAvis/js/ldavis.v3.0.0.js\", function(){\n",
       "                 new LDAvis(\"#\" + \"ldavis_el254819802694243046148734704\", ldavis_el254819802694243046148734704_data);\n",
       "            })\n",
       "         });\n",
       "}\n",
       "</script>"
      ],
      "text/plain": [
       "PreparedData(topic_coordinates=              x         y  topics  cluster       Freq\n",
       "topic                                                \n",
       "1      0.099658  0.055814       1        1  30.500315\n",
       "2     -0.081417  0.048059       2        1  27.181746\n",
       "0      0.013799 -0.108589       3        1  23.196552\n",
       "3     -0.032041  0.004716       4        1  19.121387, topic_info=        Term        Freq       Total Category  logprob  loglift\n",
       "367    trump  425.000000  425.000000  Default  30.0000  30.0000\n",
       "83     covid  315.000000  315.000000  Default  29.0000  29.0000\n",
       "150     year  245.000000  245.000000  Default  28.0000  28.0000\n",
       "48       say  766.000000  766.000000  Default  27.0000  27.0000\n",
       "211     tell  129.000000  129.000000  Default  26.0000  26.0000\n",
       "...      ...         ...         ...      ...      ...      ...\n",
       "1452    city   26.640839   64.400791   Topic4  -6.2767   0.7717\n",
       "128    black   30.795793  129.070993   Topic4  -6.1317   0.2214\n",
       "320   report   29.628240  137.631856   Topic4  -6.1704   0.1185\n",
       "228      get   32.287804  279.952256   Topic4  -6.0844  -0.5056\n",
       "74       man   28.017684  344.191015   Topic4  -6.2263  -0.8540\n",
       "\n",
       "[260 rows x 6 columns], token_table=      Topic      Freq      Term\n",
       "term                           \n",
       "613       1  0.036720  abortion\n",
       "613       2  0.036720  abortion\n",
       "613       3  0.918000  abortion\n",
       "613       4  0.018360  abortion\n",
       "0         1  0.062761    accuse\n",
       "...     ...       ...       ...\n",
       "150       4  0.032552      year\n",
       "536       1  0.129947  year_old\n",
       "536       2  0.343978  year_old\n",
       "536       3  0.007644  year_old\n",
       "536       4  0.512145  year_old\n",
       "\n",
       "[860 rows x 3 columns], R=30, lambda_step=0.01, plot_opts={'xlab': 'PC1', 'ylab': 'PC2'}, topic_order=[2, 3, 1, 4])"
      ]
     },
     "execution_count": 19,
     "metadata": {},
     "output_type": "execute_result"
    }
   ],
   "source": [
    "# Visualize with pyLDAvis\n",
    "pyLDAvis.enable_notebook()\n",
    "LDAvis_prepared = pyLDAvis.gensim_models.prepare(lda_model, corpus, id2word)\n",
    "pyLDAvis.save_html(LDAvis_prepared, 'ldavis.html')\n",
    "LDAvis_prepared"
   ]
  },
  {
   "cell_type": "code",
   "execution_count": 20,
   "metadata": {},
   "outputs": [
    {
     "data": {
      "text/plain": [
       "'\\nimport json\\n\\ntopic_words = {\\n    \\'topic1\\': [],\\n    \\'topic2\\': [],\\n    \\'topic3\\': [],\\n    \\'topic4\\': [],\\n    \\'topic5\\': []\\n}\\nfor i in range(1, num_topics+1):\\n    topic_words[\\'topic\\' + str(i)] = \\' \\'.join(LDAvis_prepared.topic_info[LDAvis_prepared.topic_info[\\'Category\\'] == \\'Topic\\' + str(i)].sort_values(by=[\\'Freq\\'], ascending=False)[\\'Term\\'].tolist()).replace(\\'_\\', \\' \\').split()[:30]\\n\\ndict_tw = open(\"topic_words.json\", \\'w\\', encoding = \"utf-8\")\\njson.dump(topic_words, dict_tw)\\ndict_tw.close()\\n'"
      ]
     },
     "execution_count": 20,
     "metadata": {},
     "output_type": "execute_result"
    }
   ],
   "source": [
    "'''\n",
    "import json\n",
    "\n",
    "topic_words = {\n",
    "    'topic1': [],\n",
    "    'topic2': [],\n",
    "    'topic3': [],\n",
    "    'topic4': [],\n",
    "    'topic5': []\n",
    "}\n",
    "for i in range(1, num_topics+1):\n",
    "    topic_words['topic' + str(i)] = ' '.join(LDAvis_prepared.topic_info[LDAvis_prepared.topic_info['Category'] == 'Topic' + str(i)].sort_values(by=['Freq'], ascending=False)['Term'].tolist()).replace('_', ' ').split()[:30]\n",
    "\n",
    "dict_tw = open(\"topic_words.json\", 'w', encoding = \"utf-8\")\n",
    "json.dump(topic_words, dict_tw)\n",
    "dict_tw.close()\n",
    "'''"
   ]
  }
 ],
 "metadata": {
  "interpreter": {
   "hash": "71ff87c67ba816b6af4ee8e83b06c07dc669ccb76fd16d8077dc452b70bfd898"
  },
  "kernelspec": {
   "display_name": "Python 3.9.0 64-bit",
   "language": "python",
   "name": "python3"
  },
  "language_info": {
   "codemirror_mode": {
    "name": "ipython",
    "version": 3
   },
   "file_extension": ".py",
   "mimetype": "text/x-python",
   "name": "python",
   "nbconvert_exporter": "python",
   "pygments_lexer": "ipython3",
   "version": "3.9.0"
  },
  "orig_nbformat": 4
 },
 "nbformat": 4,
 "nbformat_minor": 2
}
