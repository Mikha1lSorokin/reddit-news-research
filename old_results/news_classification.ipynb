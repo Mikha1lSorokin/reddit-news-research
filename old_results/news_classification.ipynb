{
 "cells": [
  {
   "cell_type": "code",
   "execution_count": 1,
   "metadata": {},
   "outputs": [],
   "source": [
    "# Importing libs\n",
    "import re\n",
    "import nltk\n",
    "import transformers\n",
    "import gensim.downloader as gensim_api\n",
    "import pandas as pd\n",
    "import numpy as np\n",
    "import seaborn as sns\n",
    "import matplotlib.pyplot as plt\n",
    "from sklearn import metrics, manifold"
   ]
  },
  {
   "cell_type": "code",
   "execution_count": 39,
   "metadata": {},
   "outputs": [
    {
     "data": {
      "text/html": [
       "<div>\n",
       "<style scoped>\n",
       "    .dataframe tbody tr th:only-of-type {\n",
       "        vertical-align: middle;\n",
       "    }\n",
       "\n",
       "    .dataframe tbody tr th {\n",
       "        vertical-align: top;\n",
       "    }\n",
       "\n",
       "    .dataframe thead th {\n",
       "        text-align: right;\n",
       "    }\n",
       "</style>\n",
       "<table border=\"1\" class=\"dataframe\">\n",
       "  <thead>\n",
       "    <tr style=\"text-align: right;\">\n",
       "      <th></th>\n",
       "      <th>subreddit</th>\n",
       "      <th>id</th>\n",
       "      <th>title</th>\n",
       "      <th>score</th>\n",
       "      <th>upvote_ratio</th>\n",
       "      <th>url</th>\n",
       "      <th>comment_1</th>\n",
       "      <th>comment_2</th>\n",
       "      <th>comment_3</th>\n",
       "      <th>score_c1</th>\n",
       "      <th>score_c2</th>\n",
       "      <th>score_c3</th>\n",
       "    </tr>\n",
       "  </thead>\n",
       "  <tbody>\n",
       "    <tr>\n",
       "      <th>0</th>\n",
       "      <td>nottheonion</td>\n",
       "      <td>l7afyx</td>\n",
       "      <td>People Are Accusing Robinhood Of Stealing From...</td>\n",
       "      <td>181832</td>\n",
       "      <td>0.95</td>\n",
       "      <td>https://www.buzzfeednews.com/article/clarissaj...</td>\n",
       "      <td>Not only did Robinhood move the goalposts when...</td>\n",
       "      <td>a class action lawsuit has been filed. further...</td>\n",
       "      <td>Basically, Robinhood just stated that your acc...</td>\n",
       "      <td>15245</td>\n",
       "      <td>14359</td>\n",
       "      <td>5337</td>\n",
       "    </tr>\n",
       "    <tr>\n",
       "      <th>1</th>\n",
       "      <td>nottheonion</td>\n",
       "      <td>gyzw2p</td>\n",
       "      <td>US Military Could Lose Space Force Trademark t...</td>\n",
       "      <td>130123</td>\n",
       "      <td>0.91</td>\n",
       "      <td>https://www.cbr.com/us-military-lose-space-for...</td>\n",
       "      <td>Please please PLEASE let this happen.  The wor...</td>\n",
       "      <td>In US trademark law it's first to use, not fir...</td>\n",
       "      <td>It sounds silly, but some years ago the UK pol...</td>\n",
       "      <td>12325</td>\n",
       "      <td>11535</td>\n",
       "      <td>5548</td>\n",
       "    </tr>\n",
       "    <tr>\n",
       "      <th>2</th>\n",
       "      <td>nottheonion</td>\n",
       "      <td>jrskag</td>\n",
       "      <td>White House threatens to fire anyone who tries...</td>\n",
       "      <td>127328</td>\n",
       "      <td>0.89</td>\n",
       "      <td>https://americanindependent.com/white-house-th...</td>\n",
       "      <td>The penalty for attempted suicide is death</td>\n",
       "      <td>Daily beatings will continue until morale impr...</td>\n",
       "      <td>From what I understood, they said anyone that ...</td>\n",
       "      <td>24384</td>\n",
       "      <td>19378</td>\n",
       "      <td>12375</td>\n",
       "    </tr>\n",
       "    <tr>\n",
       "      <th>3</th>\n",
       "      <td>nottheonion</td>\n",
       "      <td>so0ree</td>\n",
       "      <td>Meta's threat to close down Facebook and Insta...</td>\n",
       "      <td>127326</td>\n",
       "      <td>0.95</td>\n",
       "      <td>https://www.cityam.com/metas-threat-to-close-d...</td>\n",
       "      <td>Hey guys - while you’re at it, please shut it ...</td>\n",
       "      <td>750 million people in Europe. Even Zucky won't...</td>\n",
       "      <td>As much as I agree with politicians who say li...</td>\n",
       "      <td>18527</td>\n",
       "      <td>17604</td>\n",
       "      <td>6989</td>\n",
       "    </tr>\n",
       "    <tr>\n",
       "      <th>4</th>\n",
       "      <td>nottheonion</td>\n",
       "      <td>g6zci5</td>\n",
       "      <td>Don't eat or inject yourself with disinfectant...</td>\n",
       "      <td>126247</td>\n",
       "      <td>0.94</td>\n",
       "      <td>https://www.cnn.com/world/live-news/coronaviru...</td>\n",
       "      <td>I'll take \"Shit I never thought would be a hea...</td>\n",
       "      <td>Tide Pod Challenge - White House Edition</td>\n",
       "      <td>I just got a letter from my georgia congressma...</td>\n",
       "      <td>23444</td>\n",
       "      <td>12429</td>\n",
       "      <td>6640</td>\n",
       "    </tr>\n",
       "  </tbody>\n",
       "</table>\n",
       "</div>"
      ],
      "text/plain": [
       "     subreddit      id                                              title  \\\n",
       "0  nottheonion  l7afyx  People Are Accusing Robinhood Of Stealing From...   \n",
       "1  nottheonion  gyzw2p  US Military Could Lose Space Force Trademark t...   \n",
       "2  nottheonion  jrskag  White House threatens to fire anyone who tries...   \n",
       "3  nottheonion  so0ree  Meta's threat to close down Facebook and Insta...   \n",
       "4  nottheonion  g6zci5  Don't eat or inject yourself with disinfectant...   \n",
       "\n",
       "    score  upvote_ratio                                                url  \\\n",
       "0  181832          0.95  https://www.buzzfeednews.com/article/clarissaj...   \n",
       "1  130123          0.91  https://www.cbr.com/us-military-lose-space-for...   \n",
       "2  127328          0.89  https://americanindependent.com/white-house-th...   \n",
       "3  127326          0.95  https://www.cityam.com/metas-threat-to-close-d...   \n",
       "4  126247          0.94  https://www.cnn.com/world/live-news/coronaviru...   \n",
       "\n",
       "                                           comment_1  \\\n",
       "0  Not only did Robinhood move the goalposts when...   \n",
       "1  Please please PLEASE let this happen.  The wor...   \n",
       "2         The penalty for attempted suicide is death   \n",
       "3  Hey guys - while you’re at it, please shut it ...   \n",
       "4  I'll take \"Shit I never thought would be a hea...   \n",
       "\n",
       "                                           comment_2  \\\n",
       "0  a class action lawsuit has been filed. further...   \n",
       "1  In US trademark law it's first to use, not fir...   \n",
       "2  Daily beatings will continue until morale impr...   \n",
       "3  750 million people in Europe. Even Zucky won't...   \n",
       "4           Tide Pod Challenge - White House Edition   \n",
       "\n",
       "                                           comment_3  score_c1  score_c2  \\\n",
       "0  Basically, Robinhood just stated that your acc...     15245     14359   \n",
       "1  It sounds silly, but some years ago the UK pol...     12325     11535   \n",
       "2  From what I understood, they said anyone that ...     24384     19378   \n",
       "3  As much as I agree with politicians who say li...     18527     17604   \n",
       "4  I just got a letter from my georgia congressma...     23444     12429   \n",
       "\n",
       "   score_c3  \n",
       "0      5337  \n",
       "1      5548  \n",
       "2     12375  \n",
       "3      6989  \n",
       "4      6640  "
      ]
     },
     "execution_count": 39,
     "metadata": {},
     "output_type": "execute_result"
    }
   ],
   "source": [
    "# Read data\n",
    "dtf = pd.read_json('data.json', lines=True)\n",
    "dtf.head()"
   ]
  },
  {
   "cell_type": "code",
   "execution_count": 40,
   "metadata": {},
   "outputs": [
    {
     "data": {
      "text/html": [
       "<div>\n",
       "<style scoped>\n",
       "    .dataframe tbody tr th:only-of-type {\n",
       "        vertical-align: middle;\n",
       "    }\n",
       "\n",
       "    .dataframe tbody tr th {\n",
       "        vertical-align: top;\n",
       "    }\n",
       "\n",
       "    .dataframe thead th {\n",
       "        text-align: right;\n",
       "    }\n",
       "</style>\n",
       "<table border=\"1\" class=\"dataframe\">\n",
       "  <thead>\n",
       "    <tr style=\"text-align: right;\">\n",
       "      <th></th>\n",
       "      <th>title</th>\n",
       "    </tr>\n",
       "  </thead>\n",
       "  <tbody>\n",
       "    <tr>\n",
       "      <th>0</th>\n",
       "      <td>People Are Accusing Robinhood Of Stealing From...</td>\n",
       "    </tr>\n",
       "    <tr>\n",
       "      <th>1</th>\n",
       "      <td>US Military Could Lose Space Force Trademark t...</td>\n",
       "    </tr>\n",
       "    <tr>\n",
       "      <th>2</th>\n",
       "      <td>White House threatens to fire anyone who tries...</td>\n",
       "    </tr>\n",
       "    <tr>\n",
       "      <th>3</th>\n",
       "      <td>Meta's threat to close down Facebook and Insta...</td>\n",
       "    </tr>\n",
       "    <tr>\n",
       "      <th>4</th>\n",
       "      <td>Don't eat or inject yourself with disinfectant...</td>\n",
       "    </tr>\n",
       "  </tbody>\n",
       "</table>\n",
       "</div>"
      ],
      "text/plain": [
       "                                               title\n",
       "0  People Are Accusing Robinhood Of Stealing From...\n",
       "1  US Military Could Lose Space Force Trademark t...\n",
       "2  White House threatens to fire anyone who tries...\n",
       "3  Meta's threat to close down Facebook and Insta...\n",
       "4  Don't eat or inject yourself with disinfectant..."
      ]
     },
     "execution_count": 40,
     "metadata": {},
     "output_type": "execute_result"
    }
   ],
   "source": [
    "# Get the \"title\" column\n",
    "dtf = dtf[['title']]\n",
    "dtf.head(5)"
   ]
  },
  {
   "cell_type": "code",
   "execution_count": 4,
   "metadata": {},
   "outputs": [],
   "source": [
    "# Text preprocessing\n",
    "def preprocess_text(text, stemm=False, lemm=True, stopwords=None):\n",
    "    # Remove punctuations, lowercase, strip\n",
    "    text = re.sub(r'[^\\w\\s]', '', str(text).lower().strip())\n",
    "            \n",
    "    # Tokenize\n",
    "    texts = text.split()    \n",
    "    # Remove Stopwords\n",
    "    if stopwords is not None:\n",
    "        texts = [word for word in texts if word not in stopwords]\n",
    "                \n",
    "    # Stemming\n",
    "    if stemm == True:\n",
    "        ps = nltk.stem.porter.PorterStemmer()\n",
    "        texts = [ps.stem(word) for word in texts]\n",
    "                \n",
    "    # Lemmatisation\n",
    "    if lemm == True:\n",
    "        lem = nltk.stem.wordnet.WordNetLemmatizer()\n",
    "        texts = [lem.lemmatize(word) for word in texts]\n",
    "            \n",
    "    # Collect lists\n",
    "    text = \" \".join(texts)\n",
    "    return text"
   ]
  },
  {
   "cell_type": "code",
   "execution_count": 5,
   "metadata": {},
   "outputs": [],
   "source": [
    "# Loading stopwords dict\n",
    "stopwords = nltk.corpus.stopwords.words(\"english\")"
   ]
  },
  {
   "cell_type": "code",
   "execution_count": 6,
   "metadata": {},
   "outputs": [
    {
     "data": {
      "text/plain": [
       "0    people accusing robinhood stealing poor give r...\n",
       "1    u military could lose space force trademark ne...\n",
       "2           white house threatens fire anyone try quit\n",
       "3    metas threat close facebook instagram europe b...\n",
       "4    dont eat inject disinfectant warns fda commiss...\n",
       "Name: title, dtype: object"
      ]
     },
     "execution_count": 6,
     "metadata": {},
     "output_type": "execute_result"
    }
   ],
   "source": [
    "# Doint preprocessing on texts\n",
    "clean_data = dtf[\"title\"].apply(lambda x: \n",
    "          preprocess_text(x, stemm=False, lemm=True, stopwords=stopwords))\n",
    "clean_data.head()"
   ]
  },
  {
   "cell_type": "code",
   "execution_count": 7,
   "metadata": {},
   "outputs": [],
   "source": [
    "# Loading glove-twitter-200 model\n",
    "glove_twitter_200 = gensim_api.load('glove-twitter-200')\n",
    "#gensim_api.info()"
   ]
  },
  {
   "cell_type": "code",
   "execution_count": 9,
   "metadata": {},
   "outputs": [
    {
     "name": "stdout",
     "output_type": "stream",
     "text": [
      "HEALTH :  ['hiv', 'drug', 'aids', 'health', 'infection', 'disease', 'hospital', 'diagnosis', 'treatment', 'symptoms', 'clinical', 'obesity', 'prevention', 'respiratory', 'pandemic', 'healthcare', 'patients', 'illness', 'asthma', 'chronic', 'medical', 'doctors', 'research', 'diseases', 'vaccine', 'diabetes']\n",
      "CRIMES :  ['caught', 'rape', 'police', 'shooting', 'officers', 'killed', 'prison', 'jail', 'cop', 'shot', 'accused', 'suspect', 'cops', 'murder', 'kill', 'arrested', 'dead', 'arrest', 'shoot', 'killing', 'officer', 'court']\n",
      "POLITICS :  ['claims', 'president', 'politics', 'rights', 'russian', 'law', 'government', 'says', 'political', 'leaders', 'govt', 'minister', 'leader', 'threat', 'politic', 'states', 'policy', 'state', 'russia', 'legal', 'obama', 'election', 'gov', 'u.s.', 'trump']\n",
      "ECONOMY :  ['business', 'cash', 'funds', 'dollars', 'property', 'companies', 'corporate', 'paying', 'paid', 'profit', 'finance', 'budget', 'fund', 'pay', 'company', 'revenue', 'costs', 'funding', 'income', 'debt', 'money', 'benefit', 'profits', 'financial', 'spending', 'fees', 'cost', 'price', 'tax', 'credit', 'insurance', 'investment', 'economy', 'taxes', 'value']\n"
     ]
    }
   ],
   "source": [
    "# Get semantically similiar words by using most_similar method\n",
    "def most_similar_method(input_words, amount, model):\n",
    "\n",
    "    # Words we would like to dodge\n",
    "    unwanted = ['risk','charges','death','charged','child','after','should','’s','against','not','that','should','threat']\n",
    "\n",
    "    # Saving given words\n",
    "    final_words = input_words\n",
    "\n",
    "    # Adding created words to the list\n",
    "    for topn_words in model.most_similar(input_words, topn=amount):\n",
    "        if topn_words[0] not in unwanted:\n",
    "            final_words.append(topn_words[0])\n",
    "    return list(set(final_words))\n",
    "\n",
    "## Create Dictionary {category:[keywords]}\n",
    "target_topics = {}\n",
    "\n",
    "target_topics[\"HEALTH\"] = most_similar_method(['vaccine', 'hospital', 'disease', 'respiratory',\n",
    "                    'drug', 'pandemic', 'health'], amount=20, model=glove_twitter_200)\n",
    "target_topics[\"CRIMES\"] = most_similar_method(['police', 'shoot', 'arrest', 'officer',\n",
    "                    'murder', 'dead', 'prison', 'jail'], amount=20, model=glove_twitter_200)\n",
    "target_topics[\"POLITICS\"] = most_similar_method(['trump', 'president', 'russia', 'russian', 'leader',\n",
    "                    'election', 'threat', 'legal', 'law', 'politic'], amount=20, model=glove_twitter_200)\n",
    "target_topics[\"ECONOMY\"] = most_similar_method(['tax', 'money', 'budget', 'investment',\n",
    "                    'cost', 'profit'], amount=30, model=glove_twitter_200)\n",
    "\n",
    "# Remove specific words from specific dicts\n",
    "target_topics[\"ECONOMY\"].remove('government')\n",
    "\n",
    "# Check the result\n",
    "for k,v in target_topics.items():\n",
    "    print(k, \": \", v[:])"
   ]
  },
  {
   "cell_type": "code",
   "execution_count": 20,
   "metadata": {},
   "outputs": [
    {
     "name": "stderr",
     "output_type": "stream",
     "text": [
      "c:\\Users\\sorok\\AppData\\Local\\Programs\\Python\\Python39\\lib\\site-packages\\sklearn\\manifold\\_t_sne.py:790: FutureWarning: The default learning rate in TSNE will change from 200.0 to 'auto' in 1.2.\n",
      "  warnings.warn(\n",
      "c:\\Users\\sorok\\AppData\\Local\\Programs\\Python\\Python39\\lib\\site-packages\\sklearn\\manifold\\_t_sne.py:982: FutureWarning: The PCA initialization in TSNE will change to have the standard deviation of PC1 equal to 1e-4 in 1.2. This will ensure better convergence.\n",
      "  warnings.warn(\n",
      "C:\\Users\\sorok\\AppData\\Local\\Temp\\ipykernel_10024\\3921761513.py:15: FutureWarning: The frame.append method is deprecated and will be removed from pandas in a future version. Use pandas.concat instead.\n",
      "  vis_df = vis_df.append(vis_df_group)\n",
      "C:\\Users\\sorok\\AppData\\Local\\Temp\\ipykernel_10024\\3921761513.py:15: FutureWarning: The frame.append method is deprecated and will be removed from pandas in a future version. Use pandas.concat instead.\n",
      "  vis_df = vis_df.append(vis_df_group)\n",
      "C:\\Users\\sorok\\AppData\\Local\\Temp\\ipykernel_10024\\3921761513.py:15: FutureWarning: The frame.append method is deprecated and will be removed from pandas in a future version. Use pandas.concat instead.\n",
      "  vis_df = vis_df.append(vis_df_group)\n",
      "C:\\Users\\sorok\\AppData\\Local\\Temp\\ipykernel_10024\\3921761513.py:15: FutureWarning: The frame.append method is deprecated and will be removed from pandas in a future version. Use pandas.concat instead.\n",
      "  vis_df = vis_df.append(vis_df_group)\n"
     ]
    },
    {
     "data": {
      "image/png": "[encoded data removed]",
      "text/plain": [
       "<Figure size 720x720 with 1 Axes>"
      ]
     },
     "metadata": {},
     "output_type": "display_data"
    }
   ],
   "source": [
    "# Word embedding\n",
    "embed_words = [word for x in target_topics.values() for word in x]\n",
    "vectors_glove_twitter_200 = glove_twitter_200[embed_words]\n",
    "        \n",
    "# PCA\n",
    "pca = manifold.TSNE(perplexity=20, n_components=2, init='pca', random_state=20)\n",
    "vectors_glove_twitter_200 = pca.fit_transform(vectors_glove_twitter_200)\n",
    "\n",
    "# Create dtf\n",
    "vis_df = pd.DataFrame()\n",
    "for k,v in target_topics.items():\n",
    "    size = len(vis_df) + len(v)\n",
    "    vis_df_group = pd.DataFrame(vectors_glove_twitter_200[len(vis_df):size], columns=[\"x\",\"y\"], index=v)\n",
    "    vis_df_group[\"Topics:\"] = k\n",
    "    vis_df = vis_df.append(vis_df_group)\n",
    "        \n",
    "# Plotting\n",
    "fig, ax = plt.subplots(figsize=(10,10))\n",
    "sns.scatterplot(data=vis_df, x=\"x\", y=\"y\", hue=\"Topics:\", ax=ax)\n",
    "ax.set(xlabel=None, ylabel=None, xticks=[], xticklabels=[], yticks=[], yticklabels=[])\n",
    "\n",
    "for i in range(len(vis_df)):\n",
    "    ax.annotate(vis_df.index[i], xy=(vis_df[\"x\"].iloc[i],vis_df[\"y\"].iloc[i]), \n",
    "               xytext=(5,2), textcoords='offset points')"
   ]
  },
  {
   "cell_type": "code",
   "execution_count": 21,
   "metadata": {},
   "outputs": [
    {
     "name": "stderr",
     "output_type": "stream",
     "text": [
      "The tokenizer class you load from this checkpoint is not the same type as the class this function is called from. It may result in unexpected tokenization. \n",
      "The tokenizer class you load from this checkpoint is 'DistilBertTokenizer'. \n",
      "The class this function is called from is 'BertTokenizer'.\n",
      "You are using a model of type distilbert to instantiate a model of type bert. This is not supported for all configurations of models and can yield errors.\n",
      "Some layers from the model checkpoint at distilbert-base-uncased-finetuned-sst-2-english were not used when initializing TFBertModel: ['pre_classifier', 'dropout_19', 'distilbert', 'classifier']\n",
      "- This IS expected if you are initializing TFBertModel from the checkpoint of a model trained on another task or with another architecture (e.g. initializing a BertForSequenceClassification model from a BertForPreTraining model).\n",
      "- This IS NOT expected if you are initializing TFBertModel from the checkpoint of a model that you expect to be exactly identical (initializing a BertForSequenceClassification model from a BertForSequenceClassification model).\n",
      "Some layers of TFBertModel were not initialized from the model checkpoint at distilbert-base-uncased-finetuned-sst-2-english and are newly initialized: ['bert']\n",
      "You should probably TRAIN this model on a down-stream task to be able to use it for predictions and inference.\n"
     ]
    }
   ],
   "source": [
    "# Loading BERT tokenizer and pretrained model\n",
    "bert_tokenizer = transformers.BertTokenizer.from_pretrained('distilbert-base-uncased-finetuned-sst-2-english', do_lower_case=True)\n",
    "bert_model = transformers.TFBertModel.from_pretrained('distilbert-base-uncased-finetuned-sst-2-english')"
   ]
  },
  {
   "cell_type": "code",
   "execution_count": 22,
   "metadata": {},
   "outputs": [],
   "source": [
    "# BERT embedding func\n",
    "def bert_embedding(txt, tokenizer, model):\n",
    "    idx = tokenizer.encode(txt)\n",
    "    idx = np.array(idx)[None,:]  \n",
    "    embedding = model(idx)\n",
    "    final_vectors = np.array(embedding[0][0][1:-1])\n",
    "    return final_vectors"
   ]
  },
  {
   "cell_type": "code",
   "execution_count": 23,
   "metadata": {},
   "outputs": [],
   "source": [
    "# BERT N x 768 matrix of vectors\n",
    "vectors_bert = np.array([bert_embedding(txt, bert_tokenizer, bert_model).mean(0) for txt in clean_data.tolist()])"
   ]
  },
  {
   "cell_type": "code",
   "execution_count": 24,
   "metadata": {},
   "outputs": [],
   "source": [
    "# Saving/loading results\n",
    "#np.save('titles_vectors', vectors_bert)\n",
    "#vectors_bert = np.load('titles_vectors.npy')"
   ]
  },
  {
   "cell_type": "code",
   "execution_count": 25,
   "metadata": {},
   "outputs": [],
   "source": [
    "# Doing embedding on topics as well\n",
    "embed_topics = {k:bert_embedding(v, bert_tokenizer, bert_model).mean(0) for k,v in target_topics.items()}\n",
    "\n",
    "# Cosine similarities\n",
    "predicted_prob = np.array([metrics.pairwise.cosine_similarity(vectors_bert, embed_topic.reshape(1, -1)).T.tolist()[0] for embed_topic in embed_topics.values()]).T\n",
    "\n",
    "# List of topics\n",
    "topics = list(embed_topics.keys())\n",
    "\n",
    "# Classify the label with the highest cosine_similarity score\n",
    "predicted = [topics[np.argmax(pred)] for pred in predicted_prob]"
   ]
  },
  {
   "cell_type": "code",
   "execution_count": 36,
   "metadata": {},
   "outputs": [
    {
     "name": "stdout",
     "output_type": "stream",
     "text": [
      "Crimes: 2874 \n",
      "Politics: 1755 \n",
      "Health: 3726 \n",
      "Economy: 1547\n",
      "--TOTAL--: 9902\n"
     ]
    }
   ],
   "source": [
    "# Check the amounts of articles in each group\n",
    "crimes = 0\n",
    "politics = 0\n",
    "health = 0\n",
    "economy = 0\n",
    "for i in predicted:\n",
    "    if i == \"CRIMES\":\n",
    "        crimes += 1\n",
    "    elif i == \"POLITICS\":\n",
    "        politics += 1\n",
    "    elif i == \"HEALTH\":\n",
    "        health += 1\n",
    "    else:\n",
    "        economy += 1\n",
    "print('Crimes:', crimes, '\\nPolitics:',politics, '\\nHealth:',health, '\\nEconomy:',economy)\n",
    "print('--TOTAL--:', crimes + politics + health + economy)\n"
   ]
  },
  {
   "cell_type": "code",
   "execution_count": 38,
   "metadata": {},
   "outputs": [],
   "source": [
    "# Saving/loading results\n",
    "#np.save('news_predicted_topics', predicted)\n",
    "#predicted = np.load('news_predicted_topics.npy')"
   ]
  },
  {
   "cell_type": "code",
   "execution_count": 52,
   "metadata": {},
   "outputs": [
    {
     "data": {
      "text/html": [
       "<div>\n",
       "<style scoped>\n",
       "    .dataframe tbody tr th:only-of-type {\n",
       "        vertical-align: middle;\n",
       "    }\n",
       "\n",
       "    .dataframe tbody tr th {\n",
       "        vertical-align: top;\n",
       "    }\n",
       "\n",
       "    .dataframe thead th {\n",
       "        text-align: right;\n",
       "    }\n",
       "</style>\n",
       "<table border=\"1\" class=\"dataframe\">\n",
       "  <thead>\n",
       "    <tr style=\"text-align: right;\">\n",
       "      <th></th>\n",
       "      <th>title</th>\n",
       "      <th>label</th>\n",
       "    </tr>\n",
       "  </thead>\n",
       "  <tbody>\n",
       "    <tr>\n",
       "      <th>634</th>\n",
       "      <td>A Reno man donated his kidney. He received a $13,064 bill in return</td>\n",
       "      <td>ECONOMY</td>\n",
       "    </tr>\n",
       "    <tr>\n",
       "      <th>7500</th>\n",
       "      <td>Sky high: Carbon dioxide levels in air spike past milestone</td>\n",
       "      <td>HEALTH</td>\n",
       "    </tr>\n",
       "    <tr>\n",
       "      <th>4471</th>\n",
       "      <td>'QAnon Shaman' Jacob Chansley compared himself to Gandhi, Martin Luther King Jr., and Jesus Christ in interview from prison</td>\n",
       "      <td>POLITICS</td>\n",
       "    </tr>\n",
       "    <tr>\n",
       "      <th>1566</th>\n",
       "      <td>Meta: Facebook's new name ridiculed by Hebrew speakers</td>\n",
       "      <td>ECONOMY</td>\n",
       "    </tr>\n",
       "    <tr>\n",
       "      <th>7734</th>\n",
       "      <td>Prophet Muhammad controversy could affect Indians’ Qatar World Cup plans</td>\n",
       "      <td>HEALTH</td>\n",
       "    </tr>\n",
       "  </tbody>\n",
       "</table>\n",
       "</div>"
      ],
      "text/plain": [
       "                                                                                                                            title  \\\n",
       "634                                                           A Reno man donated his kidney. He received a $13,064 bill in return   \n",
       "7500                                                                  Sky high: Carbon dioxide levels in air spike past milestone   \n",
       "4471  'QAnon Shaman' Jacob Chansley compared himself to Gandhi, Martin Luther King Jr., and Jesus Christ in interview from prison   \n",
       "1566                                                                       Meta: Facebook's new name ridiculed by Hebrew speakers   \n",
       "7734                                                     Prophet Muhammad controversy could affect Indians’ Qatar World Cup plans   \n",
       "\n",
       "         label  \n",
       "634    ECONOMY  \n",
       "7500    HEALTH  \n",
       "4471  POLITICS  \n",
       "1566   ECONOMY  \n",
       "7734    HEALTH  "
      ]
     },
     "execution_count": 52,
     "metadata": {},
     "output_type": "execute_result"
    }
   ],
   "source": [
    "# Example of classified news\n",
    "dtf['label'] = predicted\n",
    "pd.set_option('display.max_colwidth', None)\n",
    "dtf.sample(5)"
   ]
  }
 ],
 "metadata": {
  "interpreter": {
   "hash": "71ff87c67ba816b6af4ee8e83b06c07dc669ccb76fd16d8077dc452b70bfd898"
  },
  "kernelspec": {
   "display_name": "Python 3.9.0 64-bit",
   "language": "python",
   "name": "python3"
  },
  "language_info": {
   "codemirror_mode": {
    "name": "ipython",
    "version": 3
   },
   "file_extension": ".py",
   "mimetype": "text/x-python",
   "name": "python",
   "nbconvert_exporter": "python",
   "pygments_lexer": "ipython3",
   "version": "3.9.0"
  },
  "orig_nbformat": 4
 },
 "nbformat": 4,
 "nbformat_minor": 2
}
